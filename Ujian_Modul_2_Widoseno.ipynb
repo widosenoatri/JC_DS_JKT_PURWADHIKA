{
 "cells": [
  {
   "cell_type": "code",
   "execution_count": null,
   "metadata": {},
   "outputs": [],
   "source": []
  },
  {
   "cell_type": "code",
   "execution_count": 1,
   "metadata": {},
   "outputs": [],
   "source": [
    "import pandas as pd\n",
    "import numpy as np\n",
    "import matplotlib.pyplot as plt\n",
    "\n",
    "%matplotlib inline"
   ]
  },
  {
   "cell_type": "code",
   "execution_count": 2,
   "metadata": {},
   "outputs": [],
   "source": [
    "df_tsa = pd.read_csv('tsa_claims_ujian.csv')"
   ]
  },
  {
   "cell_type": "code",
   "execution_count": 3,
   "metadata": {},
   "outputs": [
    {
     "data": {
      "text/html": [
       "<div>\n",
       "<style scoped>\n",
       "    .dataframe tbody tr th:only-of-type {\n",
       "        vertical-align: middle;\n",
       "    }\n",
       "\n",
       "    .dataframe tbody tr th {\n",
       "        vertical-align: top;\n",
       "    }\n",
       "\n",
       "    .dataframe thead th {\n",
       "        text-align: right;\n",
       "    }\n",
       "</style>\n",
       "<table border=\"1\" class=\"dataframe\">\n",
       "  <thead>\n",
       "    <tr style=\"text-align: right;\">\n",
       "      <th></th>\n",
       "      <th>Claim Number</th>\n",
       "      <th>Date Received</th>\n",
       "      <th>Incident Date</th>\n",
       "      <th>Airport Code</th>\n",
       "      <th>Airport Name</th>\n",
       "      <th>Airline Name</th>\n",
       "      <th>Claim Type</th>\n",
       "      <th>Claim Site</th>\n",
       "      <th>Item</th>\n",
       "      <th>Claim Amount</th>\n",
       "      <th>Status</th>\n",
       "      <th>Close Amount</th>\n",
       "      <th>Disposition</th>\n",
       "    </tr>\n",
       "  </thead>\n",
       "  <tbody>\n",
       "    <tr>\n",
       "      <td>0</td>\n",
       "      <td>0909816M</td>\n",
       "      <td>7-Feb-02</td>\n",
       "      <td>1/6/2003 0:00</td>\n",
       "      <td>MIA</td>\n",
       "      <td>Miami International Airport</td>\n",
       "      <td>American Airlines</td>\n",
       "      <td>Property Damage</td>\n",
       "      <td>Checkpoint</td>\n",
       "      <td>Luggage (all types including footlockers)</td>\n",
       "      <td>$50.00</td>\n",
       "      <td>Approved</td>\n",
       "      <td>$50.00</td>\n",
       "      <td>Approve in Full</td>\n",
       "    </tr>\n",
       "    <tr>\n",
       "      <td>1</td>\n",
       "      <td>14268</td>\n",
       "      <td>20-Jun-02</td>\n",
       "      <td>6/16/2002 0:00</td>\n",
       "      <td>PHX</td>\n",
       "      <td>Phoenix Sky Harbor International</td>\n",
       "      <td>NaN</td>\n",
       "      <td>Property Damage</td>\n",
       "      <td>Checkpoint</td>\n",
       "      <td>Computer - Laptop</td>\n",
       "      <td>$2;270.09</td>\n",
       "      <td>Canceled</td>\n",
       "      <td>NaN</td>\n",
       "      <td>NaN</td>\n",
       "    </tr>\n",
       "    <tr>\n",
       "      <td>2</td>\n",
       "      <td>15242</td>\n",
       "      <td>12-Jul-02</td>\n",
       "      <td>5/31/2002 0:00</td>\n",
       "      <td>BWI</td>\n",
       "      <td>Baltimore/Washington Intl Thurgood Marshall</td>\n",
       "      <td>American Airlines</td>\n",
       "      <td>NaN</td>\n",
       "      <td>Other</td>\n",
       "      <td>Luggage (all types including footlockers)</td>\n",
       "      <td>$200.00</td>\n",
       "      <td>Denied</td>\n",
       "      <td>$0.00</td>\n",
       "      <td>Deny</td>\n",
       "    </tr>\n",
       "    <tr>\n",
       "      <td>3</td>\n",
       "      <td>16759</td>\n",
       "      <td>21-Aug-02</td>\n",
       "      <td>7/12/2002 0:00</td>\n",
       "      <td>BWI</td>\n",
       "      <td>Baltimore/Washington Intl Thurgood Marshall</td>\n",
       "      <td>Southwest Airlines</td>\n",
       "      <td>Passenger Property Loss</td>\n",
       "      <td>Checkpoint</td>\n",
       "      <td>Other</td>\n",
       "      <td>$21.44</td>\n",
       "      <td>Approved</td>\n",
       "      <td>$21.00</td>\n",
       "      <td>Approve in Full</td>\n",
       "    </tr>\n",
       "    <tr>\n",
       "      <td>4</td>\n",
       "      <td>17846</td>\n",
       "      <td>9-Sep-02</td>\n",
       "      <td>8/30/2002 0:00</td>\n",
       "      <td>BOS</td>\n",
       "      <td>Boston (Logan) International Airport</td>\n",
       "      <td>NaN</td>\n",
       "      <td>Property Damage</td>\n",
       "      <td>Checkpoint</td>\n",
       "      <td>Luggage (all types including footlockers)</td>\n",
       "      <td>$1;832.22</td>\n",
       "      <td>Canceled</td>\n",
       "      <td>$0.00</td>\n",
       "      <td>NaN</td>\n",
       "    </tr>\n",
       "  </tbody>\n",
       "</table>\n",
       "</div>"
      ],
      "text/plain": [
       "  Claim Number Date Received   Incident Date Airport Code  \\\n",
       "0     0909816M      7-Feb-02   1/6/2003 0:00          MIA   \n",
       "1        14268     20-Jun-02  6/16/2002 0:00          PHX   \n",
       "2        15242     12-Jul-02  5/31/2002 0:00          BWI   \n",
       "3        16759     21-Aug-02  7/12/2002 0:00          BWI   \n",
       "4        17846      9-Sep-02  8/30/2002 0:00          BOS   \n",
       "\n",
       "                                  Airport Name        Airline Name  \\\n",
       "0                  Miami International Airport   American Airlines   \n",
       "1             Phoenix Sky Harbor International                 NaN   \n",
       "2  Baltimore/Washington Intl Thurgood Marshall   American Airlines   \n",
       "3  Baltimore/Washington Intl Thurgood Marshall  Southwest Airlines   \n",
       "4         Boston (Logan) International Airport                 NaN   \n",
       "\n",
       "                Claim Type  Claim Site  \\\n",
       "0          Property Damage  Checkpoint   \n",
       "1          Property Damage  Checkpoint   \n",
       "2                      NaN       Other   \n",
       "3  Passenger Property Loss  Checkpoint   \n",
       "4          Property Damage  Checkpoint   \n",
       "\n",
       "                                        Item Claim Amount    Status  \\\n",
       "0  Luggage (all types including footlockers)      $50.00   Approved   \n",
       "1                          Computer - Laptop   $2;270.09   Canceled   \n",
       "2  Luggage (all types including footlockers)     $200.00     Denied   \n",
       "3                                      Other      $21.44   Approved   \n",
       "4  Luggage (all types including footlockers)   $1;832.22   Canceled   \n",
       "\n",
       "  Close Amount      Disposition  \n",
       "0      $50.00   Approve in Full  \n",
       "1          NaN              NaN  \n",
       "2       $0.00              Deny  \n",
       "3      $21.00   Approve in Full  \n",
       "4       $0.00               NaN  "
      ]
     },
     "execution_count": 3,
     "metadata": {},
     "output_type": "execute_result"
    }
   ],
   "source": [
    "df_tsa.head()"
   ]
  },
  {
   "cell_type": "code",
   "execution_count": 4,
   "metadata": {},
   "outputs": [
    {
     "data": {
      "text/html": [
       "<div>\n",
       "<style scoped>\n",
       "    .dataframe tbody tr th:only-of-type {\n",
       "        vertical-align: middle;\n",
       "    }\n",
       "\n",
       "    .dataframe tbody tr th {\n",
       "        vertical-align: top;\n",
       "    }\n",
       "\n",
       "    .dataframe thead th {\n",
       "        text-align: right;\n",
       "    }\n",
       "</style>\n",
       "<table border=\"1\" class=\"dataframe\">\n",
       "  <thead>\n",
       "    <tr style=\"text-align: right;\">\n",
       "      <th></th>\n",
       "      <th>Claim Number</th>\n",
       "      <th>Date Received</th>\n",
       "      <th>Incident Date</th>\n",
       "      <th>Airport Code</th>\n",
       "      <th>Airport Name</th>\n",
       "      <th>Airline Name</th>\n",
       "      <th>Claim Type</th>\n",
       "      <th>Claim Site</th>\n",
       "      <th>Item</th>\n",
       "      <th>Claim Amount</th>\n",
       "      <th>Status</th>\n",
       "      <th>Close Amount</th>\n",
       "      <th>Disposition</th>\n",
       "    </tr>\n",
       "  </thead>\n",
       "  <tbody>\n",
       "    <tr>\n",
       "      <td>51061</td>\n",
       "      <td>2015110926685</td>\n",
       "      <td>22-Oct-15</td>\n",
       "      <td>19-Oct-15</td>\n",
       "      <td>-</td>\n",
       "      <td>-</td>\n",
       "      <td>-</td>\n",
       "      <td>Property Damage</td>\n",
       "      <td>Checked Baggage</td>\n",
       "      <td>Baggage/Cases/Purses</td>\n",
       "      <td>-</td>\n",
       "      <td>-</td>\n",
       "      <td>NaN</td>\n",
       "      <td>NaN</td>\n",
       "    </tr>\n",
       "    <tr>\n",
       "      <td>51062</td>\n",
       "      <td>2015110226479</td>\n",
       "      <td>2-Nov-15</td>\n",
       "      <td>2-Nov-15</td>\n",
       "      <td>-</td>\n",
       "      <td>-</td>\n",
       "      <td>-</td>\n",
       "      <td>Passenger Property Loss</td>\n",
       "      <td>Checkpoint</td>\n",
       "      <td>Books; Magazines &amp; Other</td>\n",
       "      <td>-</td>\n",
       "      <td>-</td>\n",
       "      <td>NaN</td>\n",
       "      <td>NaN</td>\n",
       "    </tr>\n",
       "    <tr>\n",
       "      <td>51063</td>\n",
       "      <td>2015120727336</td>\n",
       "      <td>16-Nov-15</td>\n",
       "      <td>14-Sep-15</td>\n",
       "      <td>-</td>\n",
       "      <td>-</td>\n",
       "      <td>American Airlines</td>\n",
       "      <td>Passenger Property Loss</td>\n",
       "      <td>Checked Baggage</td>\n",
       "      <td>Cosmetics &amp; Grooming</td>\n",
       "      <td>-</td>\n",
       "      <td>-</td>\n",
       "      <td>NaN</td>\n",
       "      <td>NaN</td>\n",
       "    </tr>\n",
       "    <tr>\n",
       "      <td>51064</td>\n",
       "      <td>2015120427297</td>\n",
       "      <td>20-Nov-15</td>\n",
       "      <td>16-Oct-15</td>\n",
       "      <td>-</td>\n",
       "      <td>-</td>\n",
       "      <td>-</td>\n",
       "      <td>Property Damage</td>\n",
       "      <td>Checked Baggage</td>\n",
       "      <td>Baggage/Cases/Purses; Books; Magazines &amp; Other...</td>\n",
       "      <td>-</td>\n",
       "      <td>-</td>\n",
       "      <td>NaN</td>\n",
       "      <td>NaN</td>\n",
       "    </tr>\n",
       "    <tr>\n",
       "      <td>51065</td>\n",
       "      <td>2016010428072</td>\n",
       "      <td>22-Dec-15</td>\n",
       "      <td>20-Dec-15</td>\n",
       "      <td>-</td>\n",
       "      <td>-</td>\n",
       "      <td>-</td>\n",
       "      <td>Passenger Property Loss</td>\n",
       "      <td>Checked Baggage</td>\n",
       "      <td>Clothing</td>\n",
       "      <td>-</td>\n",
       "      <td>-</td>\n",
       "      <td>NaN</td>\n",
       "      <td>NaN</td>\n",
       "    </tr>\n",
       "  </tbody>\n",
       "</table>\n",
       "</div>"
      ],
      "text/plain": [
       "        Claim Number Date Received Incident Date Airport Code Airport Name  \\\n",
       "51061  2015110926685     22-Oct-15     19-Oct-15            -            -   \n",
       "51062  2015110226479      2-Nov-15      2-Nov-15            -            -   \n",
       "51063  2015120727336     16-Nov-15     14-Sep-15            -            -   \n",
       "51064  2015120427297     20-Nov-15     16-Oct-15            -            -   \n",
       "51065  2016010428072     22-Dec-15     20-Dec-15            -            -   \n",
       "\n",
       "            Airline Name               Claim Type       Claim Site  \\\n",
       "51061                  -          Property Damage  Checked Baggage   \n",
       "51062                  -  Passenger Property Loss       Checkpoint   \n",
       "51063  American Airlines  Passenger Property Loss  Checked Baggage   \n",
       "51064                  -          Property Damage  Checked Baggage   \n",
       "51065                  -  Passenger Property Loss  Checked Baggage   \n",
       "\n",
       "                                                    Item Claim Amount Status  \\\n",
       "51061                               Baggage/Cases/Purses            -      -   \n",
       "51062                           Books; Magazines & Other            -      -   \n",
       "51063                               Cosmetics & Grooming            -      -   \n",
       "51064  Baggage/Cases/Purses; Books; Magazines & Other...            -      -   \n",
       "51065                                           Clothing            -      -   \n",
       "\n",
       "      Close Amount Disposition  \n",
       "51061          NaN         NaN  \n",
       "51062          NaN         NaN  \n",
       "51063          NaN         NaN  \n",
       "51064          NaN         NaN  \n",
       "51065          NaN         NaN  "
      ]
     },
     "execution_count": 4,
     "metadata": {},
     "output_type": "execute_result"
    }
   ],
   "source": [
    "df_tsa.tail()"
   ]
  },
  {
   "cell_type": "code",
   "execution_count": 5,
   "metadata": {},
   "outputs": [
    {
     "name": "stdout",
     "output_type": "stream",
     "text": [
      "<class 'pandas.core.frame.DataFrame'>\n",
      "RangeIndex: 51066 entries, 0 to 51065\n",
      "Data columns (total 13 columns):\n",
      "Claim Number     51066 non-null object\n",
      "Date Received    50996 non-null object\n",
      "Incident Date    50496 non-null object\n",
      "Airport Code     49014 non-null object\n",
      "Airport Name     49014 non-null object\n",
      "Airline Name     42511 non-null object\n",
      "Claim Type       49106 non-null object\n",
      "Claim Site       50876 non-null object\n",
      "Item             50054 non-null object\n",
      "Claim Amount     50074 non-null object\n",
      "Status           51065 non-null object\n",
      "Close Amount     33786 non-null object\n",
      "Disposition      32846 non-null object\n",
      "dtypes: object(13)\n",
      "memory usage: 5.1+ MB\n"
     ]
    }
   ],
   "source": [
    "df_tsa.info()"
   ]
  },
  {
   "cell_type": "code",
   "execution_count": 6,
   "metadata": {},
   "outputs": [
    {
     "data": {
      "text/html": [
       "<div>\n",
       "<style scoped>\n",
       "    .dataframe tbody tr th:only-of-type {\n",
       "        vertical-align: middle;\n",
       "    }\n",
       "\n",
       "    .dataframe tbody tr th {\n",
       "        vertical-align: top;\n",
       "    }\n",
       "\n",
       "    .dataframe thead th {\n",
       "        text-align: right;\n",
       "    }\n",
       "</style>\n",
       "<table border=\"1\" class=\"dataframe\">\n",
       "  <thead>\n",
       "    <tr style=\"text-align: right;\">\n",
       "      <th></th>\n",
       "      <th>Claim Number</th>\n",
       "      <th>Date Received</th>\n",
       "      <th>Incident Date</th>\n",
       "      <th>Airport Code</th>\n",
       "      <th>Airport Name</th>\n",
       "      <th>Airline Name</th>\n",
       "      <th>Claim Type</th>\n",
       "      <th>Claim Site</th>\n",
       "      <th>Item</th>\n",
       "      <th>Claim Amount</th>\n",
       "      <th>Status</th>\n",
       "      <th>Close Amount</th>\n",
       "      <th>Disposition</th>\n",
       "    </tr>\n",
       "  </thead>\n",
       "  <tbody>\n",
       "    <tr>\n",
       "      <td>count</td>\n",
       "      <td>51066</td>\n",
       "      <td>50996</td>\n",
       "      <td>50496</td>\n",
       "      <td>49014</td>\n",
       "      <td>49014</td>\n",
       "      <td>42511</td>\n",
       "      <td>49106</td>\n",
       "      <td>50876</td>\n",
       "      <td>50054</td>\n",
       "      <td>50074</td>\n",
       "      <td>51065</td>\n",
       "      <td>33786</td>\n",
       "      <td>32846</td>\n",
       "    </tr>\n",
       "    <tr>\n",
       "      <td>unique</td>\n",
       "      <td>51065</td>\n",
       "      <td>3522</td>\n",
       "      <td>10788</td>\n",
       "      <td>405</td>\n",
       "      <td>419</td>\n",
       "      <td>243</td>\n",
       "      <td>8</td>\n",
       "      <td>6</td>\n",
       "      <td>1854</td>\n",
       "      <td>13248</td>\n",
       "      <td>13</td>\n",
       "      <td>6009</td>\n",
       "      <td>3</td>\n",
       "    </tr>\n",
       "    <tr>\n",
       "      <td>top</td>\n",
       "      <td>2013121110011</td>\n",
       "      <td>27-May-04</td>\n",
       "      <td>12/22/2004 0:00</td>\n",
       "      <td>LAX</td>\n",
       "      <td>John F. Kennedy International</td>\n",
       "      <td>American Airlines</td>\n",
       "      <td>Passenger Property Loss</td>\n",
       "      <td>Checked Baggage</td>\n",
       "      <td>Other</td>\n",
       "      <td>$0.00</td>\n",
       "      <td>Denied</td>\n",
       "      <td>$0.00</td>\n",
       "      <td>Deny</td>\n",
       "    </tr>\n",
       "    <tr>\n",
       "      <td>freq</td>\n",
       "      <td>2</td>\n",
       "      <td>182</td>\n",
       "      <td>43</td>\n",
       "      <td>2379</td>\n",
       "      <td>2286</td>\n",
       "      <td>4377</td>\n",
       "      <td>29713</td>\n",
       "      <td>39937</td>\n",
       "      <td>9183</td>\n",
       "      <td>7065</td>\n",
       "      <td>17134</td>\n",
       "      <td>17907</td>\n",
       "      <td>17147</td>\n",
       "    </tr>\n",
       "  </tbody>\n",
       "</table>\n",
       "</div>"
      ],
      "text/plain": [
       "         Claim Number Date Received    Incident Date Airport Code  \\\n",
       "count           51066         50996            50496        49014   \n",
       "unique          51065          3522            10788          405   \n",
       "top     2013121110011     27-May-04  12/22/2004 0:00          LAX   \n",
       "freq                2           182               43         2379   \n",
       "\n",
       "                         Airport Name       Airline Name  \\\n",
       "count                           49014              42511   \n",
       "unique                            419                243   \n",
       "top     John F. Kennedy International  American Airlines   \n",
       "freq                             2286               4377   \n",
       "\n",
       "                     Claim Type       Claim Site   Item Claim Amount  Status  \\\n",
       "count                     49106            50876  50054        50074   51065   \n",
       "unique                        8                6   1854        13248      13   \n",
       "top     Passenger Property Loss  Checked Baggage  Other       $0.00   Denied   \n",
       "freq                      29713            39937   9183         7065   17134   \n",
       "\n",
       "       Close Amount Disposition  \n",
       "count         33786       32846  \n",
       "unique         6009           3  \n",
       "top          $0.00         Deny  \n",
       "freq          17907       17147  "
      ]
     },
     "execution_count": 6,
     "metadata": {},
     "output_type": "execute_result"
    }
   ],
   "source": [
    "df_tsa.describe()"
   ]
  },
  {
   "cell_type": "code",
   "execution_count": 7,
   "metadata": {},
   "outputs": [
    {
     "data": {
      "text/html": [
       "<div>\n",
       "<style scoped>\n",
       "    .dataframe tbody tr th:only-of-type {\n",
       "        vertical-align: middle;\n",
       "    }\n",
       "\n",
       "    .dataframe tbody tr th {\n",
       "        vertical-align: top;\n",
       "    }\n",
       "\n",
       "    .dataframe thead th {\n",
       "        text-align: right;\n",
       "    }\n",
       "</style>\n",
       "<table border=\"1\" class=\"dataframe\">\n",
       "  <thead>\n",
       "    <tr style=\"text-align: right;\">\n",
       "      <th></th>\n",
       "      <th>dataFeatures</th>\n",
       "      <th>dataType</th>\n",
       "      <th>null</th>\n",
       "      <th>nullPct</th>\n",
       "      <th>unique</th>\n",
       "      <th>uniqueSample</th>\n",
       "    </tr>\n",
       "  </thead>\n",
       "  <tbody>\n",
       "    <tr>\n",
       "      <td>0</td>\n",
       "      <td>Claim Number</td>\n",
       "      <td>object</td>\n",
       "      <td>0</td>\n",
       "      <td>0.00</td>\n",
       "      <td>51065</td>\n",
       "      <td>[1117468M, 2008042243121]</td>\n",
       "    </tr>\n",
       "    <tr>\n",
       "      <td>1</td>\n",
       "      <td>Date Received</td>\n",
       "      <td>object</td>\n",
       "      <td>70</td>\n",
       "      <td>0.14</td>\n",
       "      <td>3522</td>\n",
       "      <td>[4-Nov-12, 13-Dec-04]</td>\n",
       "    </tr>\n",
       "    <tr>\n",
       "      <td>2</td>\n",
       "      <td>Incident Date</td>\n",
       "      <td>object</td>\n",
       "      <td>570</td>\n",
       "      <td>1.12</td>\n",
       "      <td>10788</td>\n",
       "      <td>[10/13/2007 0:00, 6/6/2013 13:45]</td>\n",
       "    </tr>\n",
       "    <tr>\n",
       "      <td>3</td>\n",
       "      <td>Airport Code</td>\n",
       "      <td>object</td>\n",
       "      <td>2052</td>\n",
       "      <td>4.02</td>\n",
       "      <td>405</td>\n",
       "      <td>[TPA, MKG]</td>\n",
       "    </tr>\n",
       "    <tr>\n",
       "      <td>4</td>\n",
       "      <td>Airport Name</td>\n",
       "      <td>object</td>\n",
       "      <td>2052</td>\n",
       "      <td>4.02</td>\n",
       "      <td>419</td>\n",
       "      <td>[Athens/Ben Epps, Fayetteville Regional]</td>\n",
       "    </tr>\n",
       "    <tr>\n",
       "      <td>5</td>\n",
       "      <td>Airline Name</td>\n",
       "      <td>object</td>\n",
       "      <td>8555</td>\n",
       "      <td>16.75</td>\n",
       "      <td>243</td>\n",
       "      <td>[Cape Air  , Mountain West]</td>\n",
       "    </tr>\n",
       "    <tr>\n",
       "      <td>6</td>\n",
       "      <td>Claim Type</td>\n",
       "      <td>object</td>\n",
       "      <td>1960</td>\n",
       "      <td>3.84</td>\n",
       "      <td>8</td>\n",
       "      <td>[Motor Vehicle, Passenger Theft]</td>\n",
       "    </tr>\n",
       "    <tr>\n",
       "      <td>7</td>\n",
       "      <td>Claim Site</td>\n",
       "      <td>object</td>\n",
       "      <td>190</td>\n",
       "      <td>0.37</td>\n",
       "      <td>6</td>\n",
       "      <td>[nan, Checked Baggage]</td>\n",
       "    </tr>\n",
       "    <tr>\n",
       "      <td>8</td>\n",
       "      <td>Item</td>\n",
       "      <td>object</td>\n",
       "      <td>1012</td>\n",
       "      <td>1.98</td>\n",
       "      <td>1854</td>\n",
       "      <td>[Eyeglasses - (including contact lenses); Lugg...</td>\n",
       "    </tr>\n",
       "    <tr>\n",
       "      <td>9</td>\n",
       "      <td>Claim Amount</td>\n",
       "      <td>object</td>\n",
       "      <td>992</td>\n",
       "      <td>1.94</td>\n",
       "      <td>13248</td>\n",
       "      <td>[$745.31 , $13.20 ]</td>\n",
       "    </tr>\n",
       "    <tr>\n",
       "      <td>10</td>\n",
       "      <td>Status</td>\n",
       "      <td>object</td>\n",
       "      <td>1</td>\n",
       "      <td>0.00</td>\n",
       "      <td>13</td>\n",
       "      <td>[Settled, Claim entered]</td>\n",
       "    </tr>\n",
       "    <tr>\n",
       "      <td>11</td>\n",
       "      <td>Close Amount</td>\n",
       "      <td>object</td>\n",
       "      <td>17280</td>\n",
       "      <td>33.84</td>\n",
       "      <td>6009</td>\n",
       "      <td>[$54.96 , $227.88 ]</td>\n",
       "    </tr>\n",
       "    <tr>\n",
       "      <td>12</td>\n",
       "      <td>Disposition</td>\n",
       "      <td>object</td>\n",
       "      <td>18220</td>\n",
       "      <td>35.68</td>\n",
       "      <td>3</td>\n",
       "      <td>[Settle, nan]</td>\n",
       "    </tr>\n",
       "  </tbody>\n",
       "</table>\n",
       "</div>"
      ],
      "text/plain": [
       "     dataFeatures dataType   null  nullPct  unique  \\\n",
       "0    Claim Number   object      0     0.00   51065   \n",
       "1   Date Received   object     70     0.14    3522   \n",
       "2   Incident Date   object    570     1.12   10788   \n",
       "3    Airport Code   object   2052     4.02     405   \n",
       "4    Airport Name   object   2052     4.02     419   \n",
       "5    Airline Name   object   8555    16.75     243   \n",
       "6      Claim Type   object   1960     3.84       8   \n",
       "7      Claim Site   object    190     0.37       6   \n",
       "8            Item   object   1012     1.98    1854   \n",
       "9    Claim Amount   object    992     1.94   13248   \n",
       "10         Status   object      1     0.00      13   \n",
       "11   Close Amount   object  17280    33.84    6009   \n",
       "12    Disposition   object  18220    35.68       3   \n",
       "\n",
       "                                         uniqueSample  \n",
       "0                           [1117468M, 2008042243121]  \n",
       "1                               [4-Nov-12, 13-Dec-04]  \n",
       "2                   [10/13/2007 0:00, 6/6/2013 13:45]  \n",
       "3                                          [TPA, MKG]  \n",
       "4            [Athens/Ben Epps, Fayetteville Regional]  \n",
       "5                         [Cape Air  , Mountain West]  \n",
       "6                    [Motor Vehicle, Passenger Theft]  \n",
       "7                              [nan, Checked Baggage]  \n",
       "8   [Eyeglasses - (including contact lenses); Lugg...  \n",
       "9                                 [$745.31 , $13.20 ]  \n",
       "10                           [Settled, Claim entered]  \n",
       "11                                [$54.96 , $227.88 ]  \n",
       "12                                      [Settle, nan]  "
      ]
     },
     "execution_count": 7,
     "metadata": {},
     "output_type": "execute_result"
    }
   ],
   "source": [
    "tsaDesc = []\n",
    "for i in df_tsa.columns:\n",
    "    tsaDesc.append([i,\n",
    "                     df_tsa[i].dtypes,\n",
    "                     df_tsa[i].isna().sum(),\n",
    "                     round((((df_tsa[i].isna().sum())/(len(df_tsa)))*100),2),\n",
    "                     df_tsa[i].nunique(),\n",
    "                     df_tsa[i].drop_duplicates().sample(2).values])\n",
    "    \n",
    "pd.DataFrame(tsaDesc, columns = ['dataFeatures', 'dataType', 'null', 'nullPct', 'unique', 'uniqueSample'])"
   ]
  },
  {
   "cell_type": "code",
   "execution_count": 8,
   "metadata": {},
   "outputs": [],
   "source": [
    "df_tsa.replace('-', np.nan, inplace = True)"
   ]
  },
  {
   "cell_type": "code",
   "execution_count": 9,
   "metadata": {},
   "outputs": [],
   "source": [
    "df_tsa['Date Received'] = pd.to_datetime(df_tsa['Date Received'], errors = 'coerce')"
   ]
  },
  {
   "cell_type": "code",
   "execution_count": 10,
   "metadata": {
    "scrolled": true
   },
   "outputs": [],
   "source": [
    "# df_err = df_tsa[(df_tsa['Incident Date'])]"
   ]
  },
  {
   "cell_type": "code",
   "execution_count": 11,
   "metadata": {},
   "outputs": [],
   "source": [
    "def change_date(row):\n",
    "    if str(row['Incident Date']) != 'nan':\n",
    "        if (len(str(row['Incident Date'])) >= 17) and (row['Incident Date'][7] == '0'):\n",
    "            new = row['Incident Date'][:7] + str(row['Date Received'].year) + row['Incident Date'][11:]\n",
    "            return new\n",
    "        else:\n",
    "            return row\n",
    "        \n",
    "    else:\n",
    "        return row\n",
    "        \n",
    "df_tsa['Incident Date'] = df_tsa[['Incident Date', 'Date Received']].apply(change_date, axis = 1)"
   ]
  },
  {
   "cell_type": "code",
   "execution_count": 12,
   "metadata": {},
   "outputs": [],
   "source": [
    "# df_tsa['Incident Date'][13729][:]\n",
    "df_tsa['Incident Date'] = pd.to_datetime(df_tsa['Incident Date'])"
   ]
  },
  {
   "cell_type": "code",
   "execution_count": 13,
   "metadata": {},
   "outputs": [
    {
     "name": "stdout",
     "output_type": "stream",
     "text": [
      "<class 'pandas.core.frame.DataFrame'>\n",
      "RangeIndex: 51066 entries, 0 to 51065\n",
      "Data columns (total 13 columns):\n",
      "Claim Number     51066 non-null object\n",
      "Date Received    50996 non-null datetime64[ns]\n",
      "Incident Date    50496 non-null datetime64[ns]\n",
      "Airport Code     48915 non-null object\n",
      "Airport Name     48915 non-null object\n",
      "Airline Name     41470 non-null object\n",
      "Claim Type       49035 non-null object\n",
      "Claim Site       50817 non-null object\n",
      "Item             48918 non-null object\n",
      "Claim Amount     46886 non-null object\n",
      "Status           47877 non-null object\n",
      "Close Amount     33786 non-null object\n",
      "Disposition      32846 non-null object\n",
      "dtypes: datetime64[ns](2), object(11)\n",
      "memory usage: 5.1+ MB\n"
     ]
    }
   ],
   "source": [
    "df_tsa.info()"
   ]
  },
  {
   "cell_type": "code",
   "execution_count": 14,
   "metadata": {},
   "outputs": [],
   "source": [
    "# SHOW THE ERROR AGAIN!\n"
   ]
  },
  {
   "cell_type": "code",
   "execution_count": 15,
   "metadata": {},
   "outputs": [],
   "source": [
    "df_tsa['Day Differences'] = df_tsa['Date Received'] - df_tsa['Incident Date']\n",
    "df_tsa['Day Differences'] = df_tsa['Day Differences'].dt.days"
   ]
  },
  {
   "cell_type": "code",
   "execution_count": 16,
   "metadata": {
    "scrolled": false
   },
   "outputs": [
    {
     "data": {
      "text/plain": [
       "Text(0.5, 1.0, 'Day Differences Distribution')"
      ]
     },
     "execution_count": 16,
     "metadata": {},
     "output_type": "execute_result"
    },
    {
     "data": {
      "image/png": "[encoded data removed]",
      "text/plain": [
       "<Figure size 576x576 with 1 Axes>"
      ]
     },
     "metadata": {
      "needs_background": "light"
     },
     "output_type": "display_data"
    }
   ],
   "source": [
    "import seaborn as sns\n",
    "plt.figure(figsize = (8,8))\n",
    "sns.distplot(df_tsa['Day Differences'].dropna())\n",
    "plt.title('Day Differences Distribution')"
   ]
  },
  {
   "cell_type": "code",
   "execution_count": 17,
   "metadata": {
    "scrolled": false
   },
   "outputs": [
    {
     "data": {
      "text/plain": [
       "Text(0.5, 1.0, 'Day Differences Distribution less than 0')"
      ]
     },
     "execution_count": 17,
     "metadata": {},
     "output_type": "execute_result"
    },
    {
     "data": {
      "image/png": "[encoded data removed]",
      "text/plain": [
       "<Figure size 576x576 with 1 Axes>"
      ]
     },
     "metadata": {
      "needs_background": "light"
     },
     "output_type": "display_data"
    }
   ],
   "source": [
    "plt.figure(figsize = (8,8))\n",
    "day_less = df_tsa[(df_tsa['Day Differences'] < 0)]\n",
    "sns.distplot(day_less['Day Differences'].dropna())\n",
    "plt.title('Day Differences Distribution less than 0')"
   ]
  },
  {
   "cell_type": "code",
   "execution_count": 18,
   "metadata": {
    "scrolled": false
   },
   "outputs": [
    {
     "data": {
      "text/plain": [
       "Text(0.5, 1.0, 'Day Differences Distribution over than 1000')"
      ]
     },
     "execution_count": 18,
     "metadata": {},
     "output_type": "execute_result"
    },
    {
     "data": {
      "image/png": "[encoded data removed]",
      "text/plain": [
       "<Figure size 576x576 with 1 Axes>"
      ]
     },
     "metadata": {
      "needs_background": "light"
     },
     "output_type": "display_data"
    }
   ],
   "source": [
    "plt.figure(figsize = (8,8))\n",
    "day_more = df_tsa[(df_tsa['Day Differences'] > 1000)]\n",
    "sns.distplot(day_more['Day Differences'].dropna())\n",
    "plt.title('Day Differences Distribution over than 1000')"
   ]
  },
  {
   "cell_type": "markdown",
   "metadata": {},
   "source": [
    "## Question"
   ]
  },
  {
   "cell_type": "markdown",
   "metadata": {},
   "source": [
    "Why do you think there is day that way more than thousand days differences, and why some day differences are less than 0? (claim was made before the incident is like someone predicting a future after all)."
   ]
  },
  {
   "cell_type": "markdown",
   "metadata": {},
   "source": [
    "#### Answer:\n"
   ]
  },
  {
   "cell_type": "markdown",
   "metadata": {},
   "source": [
    "I think there are negative values in the day differences maybe possible due to human error during the input of data, where the Date Received was supposed to be the Incident Date and vice versa."
   ]
  },
  {
   "cell_type": "code",
   "execution_count": 19,
   "metadata": {},
   "outputs": [],
   "source": [
    "# Remove $ sign and ;\n",
    "\n",
    "def remove_sign(cols):\n",
    "    cols = str(cols)\n",
    "    if cols != 'nan':\n",
    "        cols = cols.replace('$', '')\n",
    "        cols = cols.replace(';', '')\n",
    "        return cols\n",
    "    else:\n",
    "        return cols\n",
    "\n",
    "df_tsa['Claim Amount'] = df_tsa['Claim Amount'].apply(remove_sign).astype('float64')\n",
    "df_tsa['Close Amount'] = df_tsa['Close Amount'].apply(remove_sign).astype('float64')"
   ]
  },
  {
   "cell_type": "code",
   "execution_count": 20,
   "metadata": {},
   "outputs": [],
   "source": [
    "df_tsa['Amount Differences'] = df_tsa['Claim Amount'] - df_tsa['Close Amount']"
   ]
  },
  {
   "cell_type": "code",
   "execution_count": 21,
   "metadata": {},
   "outputs": [
    {
     "name": "stdout",
     "output_type": "stream",
     "text": [
      "<class 'pandas.core.frame.DataFrame'>\n",
      "RangeIndex: 51066 entries, 0 to 51065\n",
      "Data columns (total 15 columns):\n",
      "Claim Number          51066 non-null object\n",
      "Date Received         50996 non-null datetime64[ns]\n",
      "Incident Date         50496 non-null datetime64[ns]\n",
      "Airport Code          48915 non-null object\n",
      "Airport Name          48915 non-null object\n",
      "Airline Name          41470 non-null object\n",
      "Claim Type            49035 non-null object\n",
      "Claim Site            50817 non-null object\n",
      "Item                  48918 non-null object\n",
      "Claim Amount          46886 non-null float64\n",
      "Status                47877 non-null object\n",
      "Close Amount          33786 non-null float64\n",
      "Disposition           32846 non-null object\n",
      "Day Differences       50460 non-null float64\n",
      "Amount Differences    33470 non-null float64\n",
      "dtypes: datetime64[ns](2), float64(4), object(9)\n",
      "memory usage: 5.8+ MB\n"
     ]
    }
   ],
   "source": [
    "df_tsa.info()"
   ]
  },
  {
   "cell_type": "code",
   "execution_count": 22,
   "metadata": {},
   "outputs": [
    {
     "data": {
      "text/html": [
       "<div>\n",
       "<style scoped>\n",
       "    .dataframe tbody tr th:only-of-type {\n",
       "        vertical-align: middle;\n",
       "    }\n",
       "\n",
       "    .dataframe tbody tr th {\n",
       "        vertical-align: top;\n",
       "    }\n",
       "\n",
       "    .dataframe thead th {\n",
       "        text-align: right;\n",
       "    }\n",
       "</style>\n",
       "<table border=\"1\" class=\"dataframe\">\n",
       "  <thead>\n",
       "    <tr style=\"text-align: right;\">\n",
       "      <th></th>\n",
       "      <th>Claim Number</th>\n",
       "      <th>Date Received</th>\n",
       "      <th>Incident Date</th>\n",
       "      <th>Airport Code</th>\n",
       "      <th>Airport Name</th>\n",
       "      <th>Airline Name</th>\n",
       "      <th>Claim Type</th>\n",
       "      <th>Claim Site</th>\n",
       "      <th>Item</th>\n",
       "      <th>Claim Amount</th>\n",
       "      <th>Status</th>\n",
       "      <th>Close Amount</th>\n",
       "      <th>Disposition</th>\n",
       "      <th>Day Differences</th>\n",
       "      <th>Amount Differences</th>\n",
       "    </tr>\n",
       "  </thead>\n",
       "  <tbody>\n",
       "    <tr>\n",
       "      <td>0</td>\n",
       "      <td>0909816M</td>\n",
       "      <td>2002-02-07</td>\n",
       "      <td>2003-01-06</td>\n",
       "      <td>MIA</td>\n",
       "      <td>Miami International Airport</td>\n",
       "      <td>American Airlines</td>\n",
       "      <td>Property Damage</td>\n",
       "      <td>Checkpoint</td>\n",
       "      <td>Luggage (all types including footlockers)</td>\n",
       "      <td>50.00</td>\n",
       "      <td>Approved</td>\n",
       "      <td>50.0</td>\n",
       "      <td>Approve in Full</td>\n",
       "      <td>-333.0</td>\n",
       "      <td>0.00</td>\n",
       "    </tr>\n",
       "    <tr>\n",
       "      <td>1</td>\n",
       "      <td>14268</td>\n",
       "      <td>2002-06-20</td>\n",
       "      <td>2002-06-16</td>\n",
       "      <td>PHX</td>\n",
       "      <td>Phoenix Sky Harbor International</td>\n",
       "      <td>NaN</td>\n",
       "      <td>Property Damage</td>\n",
       "      <td>Checkpoint</td>\n",
       "      <td>Computer - Laptop</td>\n",
       "      <td>2270.09</td>\n",
       "      <td>Canceled</td>\n",
       "      <td>NaN</td>\n",
       "      <td>NaN</td>\n",
       "      <td>4.0</td>\n",
       "      <td>NaN</td>\n",
       "    </tr>\n",
       "    <tr>\n",
       "      <td>2</td>\n",
       "      <td>15242</td>\n",
       "      <td>2002-07-12</td>\n",
       "      <td>2002-05-31</td>\n",
       "      <td>BWI</td>\n",
       "      <td>Baltimore/Washington Intl Thurgood Marshall</td>\n",
       "      <td>American Airlines</td>\n",
       "      <td>NaN</td>\n",
       "      <td>Other</td>\n",
       "      <td>Luggage (all types including footlockers)</td>\n",
       "      <td>200.00</td>\n",
       "      <td>Denied</td>\n",
       "      <td>0.0</td>\n",
       "      <td>Deny</td>\n",
       "      <td>42.0</td>\n",
       "      <td>200.00</td>\n",
       "    </tr>\n",
       "    <tr>\n",
       "      <td>3</td>\n",
       "      <td>16759</td>\n",
       "      <td>2002-08-21</td>\n",
       "      <td>2002-07-12</td>\n",
       "      <td>BWI</td>\n",
       "      <td>Baltimore/Washington Intl Thurgood Marshall</td>\n",
       "      <td>Southwest Airlines</td>\n",
       "      <td>Passenger Property Loss</td>\n",
       "      <td>Checkpoint</td>\n",
       "      <td>Other</td>\n",
       "      <td>21.44</td>\n",
       "      <td>Approved</td>\n",
       "      <td>21.0</td>\n",
       "      <td>Approve in Full</td>\n",
       "      <td>40.0</td>\n",
       "      <td>0.44</td>\n",
       "    </tr>\n",
       "    <tr>\n",
       "      <td>4</td>\n",
       "      <td>17846</td>\n",
       "      <td>2002-09-09</td>\n",
       "      <td>2002-08-30</td>\n",
       "      <td>BOS</td>\n",
       "      <td>Boston (Logan) International Airport</td>\n",
       "      <td>NaN</td>\n",
       "      <td>Property Damage</td>\n",
       "      <td>Checkpoint</td>\n",
       "      <td>Luggage (all types including footlockers)</td>\n",
       "      <td>1832.22</td>\n",
       "      <td>Canceled</td>\n",
       "      <td>0.0</td>\n",
       "      <td>NaN</td>\n",
       "      <td>10.0</td>\n",
       "      <td>1832.22</td>\n",
       "    </tr>\n",
       "  </tbody>\n",
       "</table>\n",
       "</div>"
      ],
      "text/plain": [
       "  Claim Number Date Received Incident Date Airport Code  \\\n",
       "0     0909816M    2002-02-07    2003-01-06          MIA   \n",
       "1        14268    2002-06-20    2002-06-16          PHX   \n",
       "2        15242    2002-07-12    2002-05-31          BWI   \n",
       "3        16759    2002-08-21    2002-07-12          BWI   \n",
       "4        17846    2002-09-09    2002-08-30          BOS   \n",
       "\n",
       "                                  Airport Name        Airline Name  \\\n",
       "0                  Miami International Airport   American Airlines   \n",
       "1             Phoenix Sky Harbor International                 NaN   \n",
       "2  Baltimore/Washington Intl Thurgood Marshall   American Airlines   \n",
       "3  Baltimore/Washington Intl Thurgood Marshall  Southwest Airlines   \n",
       "4         Boston (Logan) International Airport                 NaN   \n",
       "\n",
       "                Claim Type  Claim Site  \\\n",
       "0          Property Damage  Checkpoint   \n",
       "1          Property Damage  Checkpoint   \n",
       "2                      NaN       Other   \n",
       "3  Passenger Property Loss  Checkpoint   \n",
       "4          Property Damage  Checkpoint   \n",
       "\n",
       "                                        Item  Claim Amount    Status  \\\n",
       "0  Luggage (all types including footlockers)         50.00  Approved   \n",
       "1                          Computer - Laptop       2270.09  Canceled   \n",
       "2  Luggage (all types including footlockers)        200.00    Denied   \n",
       "3                                      Other         21.44  Approved   \n",
       "4  Luggage (all types including footlockers)       1832.22  Canceled   \n",
       "\n",
       "   Close Amount      Disposition  Day Differences  Amount Differences  \n",
       "0          50.0  Approve in Full           -333.0                0.00  \n",
       "1           NaN              NaN              4.0                 NaN  \n",
       "2           0.0             Deny             42.0              200.00  \n",
       "3          21.0  Approve in Full             40.0                0.44  \n",
       "4           0.0              NaN             10.0             1832.22  "
      ]
     },
     "execution_count": 22,
     "metadata": {},
     "output_type": "execute_result"
    }
   ],
   "source": [
    "df_tsa.head()"
   ]
  },
  {
   "cell_type": "code",
   "execution_count": 23,
   "metadata": {},
   "outputs": [
    {
     "data": {
      "text/plain": [
       "Text(0.5, 1.0, 'Amount Differences Distribution')"
      ]
     },
     "execution_count": 23,
     "metadata": {},
     "output_type": "execute_result"
    },
    {
     "data": {
      "image/png": "[encoded data removed]",
      "text/plain": [
       "<Figure size 576x576 with 1 Axes>"
      ]
     },
     "metadata": {
      "needs_background": "light"
     },
     "output_type": "display_data"
    }
   ],
   "source": [
    "plt.figure(figsize = (8,8))\n",
    "sns.distplot(df_tsa['Amount Differences'].dropna())\n",
    "plt.title('Amount Differences Distribution')"
   ]
  },
  {
   "cell_type": "code",
   "execution_count": 24,
   "metadata": {
    "scrolled": false
   },
   "outputs": [
    {
     "data": {
      "text/html": [
       "<div>\n",
       "<style scoped>\n",
       "    .dataframe tbody tr th:only-of-type {\n",
       "        vertical-align: middle;\n",
       "    }\n",
       "\n",
       "    .dataframe tbody tr th {\n",
       "        vertical-align: top;\n",
       "    }\n",
       "\n",
       "    .dataframe thead th {\n",
       "        text-align: right;\n",
       "    }\n",
       "</style>\n",
       "<table border=\"1\" class=\"dataframe\">\n",
       "  <thead>\n",
       "    <tr style=\"text-align: right;\">\n",
       "      <th></th>\n",
       "      <th>Claim Number</th>\n",
       "      <th>Date Received</th>\n",
       "      <th>Incident Date</th>\n",
       "      <th>Airport Code</th>\n",
       "      <th>Airport Name</th>\n",
       "      <th>Airline Name</th>\n",
       "      <th>Claim Type</th>\n",
       "      <th>Claim Site</th>\n",
       "      <th>Item</th>\n",
       "      <th>Claim Amount</th>\n",
       "      <th>Status</th>\n",
       "      <th>Close Amount</th>\n",
       "      <th>Disposition</th>\n",
       "      <th>Day Differences</th>\n",
       "      <th>Amount Differences</th>\n",
       "    </tr>\n",
       "  </thead>\n",
       "  <tbody>\n",
       "    <tr>\n",
       "      <td>4</td>\n",
       "      <td>17846</td>\n",
       "      <td>2002-09-09</td>\n",
       "      <td>2002-08-30 00:00:00</td>\n",
       "      <td>BOS</td>\n",
       "      <td>Boston (Logan) International Airport</td>\n",
       "      <td>NaN</td>\n",
       "      <td>Property Damage</td>\n",
       "      <td>Checkpoint</td>\n",
       "      <td>Luggage (all types including footlockers)</td>\n",
       "      <td>1832.22</td>\n",
       "      <td>Canceled</td>\n",
       "      <td>0.00</td>\n",
       "      <td>NaN</td>\n",
       "      <td>10.0</td>\n",
       "      <td>1832.22</td>\n",
       "    </tr>\n",
       "    <tr>\n",
       "      <td>13</td>\n",
       "      <td>19133</td>\n",
       "      <td>2002-10-02</td>\n",
       "      <td>2002-08-22 00:00:00</td>\n",
       "      <td>CLE</td>\n",
       "      <td>Cleveland Hopkins International</td>\n",
       "      <td>Northwest Airlines</td>\n",
       "      <td>NaN</td>\n",
       "      <td>Other</td>\n",
       "      <td>Computer - Laptop</td>\n",
       "      <td>2000.00</td>\n",
       "      <td>Denied</td>\n",
       "      <td>0.00</td>\n",
       "      <td>Deny</td>\n",
       "      <td>41.0</td>\n",
       "      <td>2000.00</td>\n",
       "    </tr>\n",
       "    <tr>\n",
       "      <td>21</td>\n",
       "      <td>18614</td>\n",
       "      <td>2002-10-17</td>\n",
       "      <td>2002-09-14 00:00:00</td>\n",
       "      <td>MCO</td>\n",
       "      <td>Orlando International Airport</td>\n",
       "      <td>American Airlines</td>\n",
       "      <td>Property Damage</td>\n",
       "      <td>Checkpoint</td>\n",
       "      <td>Computer - Laptop</td>\n",
       "      <td>2000.00</td>\n",
       "      <td>Settled</td>\n",
       "      <td>600.00</td>\n",
       "      <td>Settle</td>\n",
       "      <td>33.0</td>\n",
       "      <td>1400.00</td>\n",
       "    </tr>\n",
       "    <tr>\n",
       "      <td>23</td>\n",
       "      <td>18356</td>\n",
       "      <td>2002-10-23</td>\n",
       "      <td>2002-09-18 00:00:00</td>\n",
       "      <td>LGA</td>\n",
       "      <td>LaGuardia</td>\n",
       "      <td>NaN</td>\n",
       "      <td>NaN</td>\n",
       "      <td>Checkpoint</td>\n",
       "      <td>Computer - Laptop</td>\n",
       "      <td>1801.99</td>\n",
       "      <td>Settled</td>\n",
       "      <td>291.67</td>\n",
       "      <td>Settle</td>\n",
       "      <td>35.0</td>\n",
       "      <td>1510.32</td>\n",
       "    </tr>\n",
       "    <tr>\n",
       "      <td>27</td>\n",
       "      <td>21817</td>\n",
       "      <td>2002-10-29</td>\n",
       "      <td>2002-10-05 00:00:00</td>\n",
       "      <td>MCO</td>\n",
       "      <td>Orlando International Airport</td>\n",
       "      <td>Delta Air Lines</td>\n",
       "      <td>NaN</td>\n",
       "      <td>Other</td>\n",
       "      <td>Other</td>\n",
       "      <td>7500.00</td>\n",
       "      <td>Denied</td>\n",
       "      <td>0.00</td>\n",
       "      <td>Deny</td>\n",
       "      <td>24.0</td>\n",
       "      <td>7500.00</td>\n",
       "    </tr>\n",
       "    <tr>\n",
       "      <td>...</td>\n",
       "      <td>...</td>\n",
       "      <td>...</td>\n",
       "      <td>...</td>\n",
       "      <td>...</td>\n",
       "      <td>...</td>\n",
       "      <td>...</td>\n",
       "      <td>...</td>\n",
       "      <td>...</td>\n",
       "      <td>...</td>\n",
       "      <td>...</td>\n",
       "      <td>...</td>\n",
       "      <td>...</td>\n",
       "      <td>...</td>\n",
       "      <td>...</td>\n",
       "      <td>...</td>\n",
       "    </tr>\n",
       "    <tr>\n",
       "      <td>36208</td>\n",
       "      <td>2009123167012</td>\n",
       "      <td>2009-12-29</td>\n",
       "      <td>2009-12-18 00:00:00</td>\n",
       "      <td>MIA</td>\n",
       "      <td>Miami International Airport</td>\n",
       "      <td>American Airlines</td>\n",
       "      <td>Property Damage</td>\n",
       "      <td>Checked Baggage</td>\n",
       "      <td>NaN</td>\n",
       "      <td>2200.00</td>\n",
       "      <td>Denied</td>\n",
       "      <td>0.00</td>\n",
       "      <td>Deny</td>\n",
       "      <td>11.0</td>\n",
       "      <td>2200.00</td>\n",
       "    </tr>\n",
       "    <tr>\n",
       "      <td>36210</td>\n",
       "      <td>2009123167017</td>\n",
       "      <td>2009-12-29</td>\n",
       "      <td>2009-12-02 15:30:00</td>\n",
       "      <td>JFK</td>\n",
       "      <td>John F. Kennedy International</td>\n",
       "      <td>KLM Royal Dutch Airlines</td>\n",
       "      <td>Passenger Property Loss</td>\n",
       "      <td>Checked Baggage</td>\n",
       "      <td>Clothing - Shoes; belts; accessories; etc.; Co...</td>\n",
       "      <td>900.00</td>\n",
       "      <td>Denied</td>\n",
       "      <td>0.00</td>\n",
       "      <td>Deny</td>\n",
       "      <td>26.0</td>\n",
       "      <td>900.00</td>\n",
       "    </tr>\n",
       "    <tr>\n",
       "      <td>36213</td>\n",
       "      <td>2010010867323</td>\n",
       "      <td>2009-12-29</td>\n",
       "      <td>2009-12-21 15:15:00</td>\n",
       "      <td>CVG</td>\n",
       "      <td>Cincinnati/Northern Kentucky International</td>\n",
       "      <td>Delta Air Lines</td>\n",
       "      <td>Property Damage</td>\n",
       "      <td>Checkpoint</td>\n",
       "      <td>Computer - Laptop</td>\n",
       "      <td>1240.00</td>\n",
       "      <td>Denied</td>\n",
       "      <td>0.00</td>\n",
       "      <td>Deny</td>\n",
       "      <td>7.0</td>\n",
       "      <td>1240.00</td>\n",
       "    </tr>\n",
       "    <tr>\n",
       "      <td>36225</td>\n",
       "      <td>2009123066912</td>\n",
       "      <td>2009-12-30</td>\n",
       "      <td>2009-12-15 00:00:00</td>\n",
       "      <td>GSO</td>\n",
       "      <td>Piedmont Triad International Airport</td>\n",
       "      <td>Delta Air Lines</td>\n",
       "      <td>Property Damage</td>\n",
       "      <td>Checked Baggage</td>\n",
       "      <td>NaN</td>\n",
       "      <td>2300.00</td>\n",
       "      <td>Denied</td>\n",
       "      <td>0.00</td>\n",
       "      <td>Deny</td>\n",
       "      <td>15.0</td>\n",
       "      <td>2300.00</td>\n",
       "    </tr>\n",
       "    <tr>\n",
       "      <td>36232</td>\n",
       "      <td>2010010567146</td>\n",
       "      <td>2009-12-30</td>\n",
       "      <td>2009-12-10 06:00:00</td>\n",
       "      <td>DFW</td>\n",
       "      <td>Dallas-Fort Worth International Airport</td>\n",
       "      <td>American Airlines</td>\n",
       "      <td>Property Damage</td>\n",
       "      <td>Checkpoint</td>\n",
       "      <td>NaN</td>\n",
       "      <td>3650.00</td>\n",
       "      <td>Denied</td>\n",
       "      <td>0.00</td>\n",
       "      <td>Deny</td>\n",
       "      <td>19.0</td>\n",
       "      <td>3650.00</td>\n",
       "    </tr>\n",
       "  </tbody>\n",
       "</table>\n",
       "<p>4103 rows × 15 columns</p>\n",
       "</div>"
      ],
      "text/plain": [
       "        Claim Number Date Received       Incident Date Airport Code  \\\n",
       "4              17846    2002-09-09 2002-08-30 00:00:00          BOS   \n",
       "13             19133    2002-10-02 2002-08-22 00:00:00          CLE   \n",
       "21             18614    2002-10-17 2002-09-14 00:00:00          MCO   \n",
       "23             18356    2002-10-23 2002-09-18 00:00:00          LGA   \n",
       "27             21817    2002-10-29 2002-10-05 00:00:00          MCO   \n",
       "...              ...           ...                 ...          ...   \n",
       "36208  2009123167012    2009-12-29 2009-12-18 00:00:00          MIA   \n",
       "36210  2009123167017    2009-12-29 2009-12-02 15:30:00          JFK   \n",
       "36213  2010010867323    2009-12-29 2009-12-21 15:15:00          CVG   \n",
       "36225  2009123066912    2009-12-30 2009-12-15 00:00:00          GSO   \n",
       "36232  2010010567146    2009-12-30 2009-12-10 06:00:00          DFW   \n",
       "\n",
       "                                     Airport Name              Airline Name  \\\n",
       "4            Boston (Logan) International Airport                       NaN   \n",
       "13                Cleveland Hopkins International        Northwest Airlines   \n",
       "21                  Orlando International Airport         American Airlines   \n",
       "23                                      LaGuardia                       NaN   \n",
       "27                  Orlando International Airport           Delta Air Lines   \n",
       "...                                           ...                       ...   \n",
       "36208                 Miami International Airport         American Airlines   \n",
       "36210               John F. Kennedy International  KLM Royal Dutch Airlines   \n",
       "36213  Cincinnati/Northern Kentucky International           Delta Air Lines   \n",
       "36225        Piedmont Triad International Airport           Delta Air Lines   \n",
       "36232     Dallas-Fort Worth International Airport         American Airlines   \n",
       "\n",
       "                    Claim Type       Claim Site  \\\n",
       "4              Property Damage       Checkpoint   \n",
       "13                         NaN            Other   \n",
       "21             Property Damage       Checkpoint   \n",
       "23                         NaN       Checkpoint   \n",
       "27                         NaN            Other   \n",
       "...                        ...              ...   \n",
       "36208          Property Damage  Checked Baggage   \n",
       "36210  Passenger Property Loss  Checked Baggage   \n",
       "36213          Property Damage       Checkpoint   \n",
       "36225          Property Damage  Checked Baggage   \n",
       "36232          Property Damage       Checkpoint   \n",
       "\n",
       "                                                    Item  Claim Amount  \\\n",
       "4              Luggage (all types including footlockers)       1832.22   \n",
       "13                                     Computer - Laptop       2000.00   \n",
       "21                                     Computer - Laptop       2000.00   \n",
       "23                                     Computer - Laptop       1801.99   \n",
       "27                                                 Other       7500.00   \n",
       "...                                                  ...           ...   \n",
       "36208                                                NaN       2200.00   \n",
       "36210  Clothing - Shoes; belts; accessories; etc.; Co...        900.00   \n",
       "36213                                  Computer - Laptop       1240.00   \n",
       "36225                                                NaN       2300.00   \n",
       "36232                                                NaN       3650.00   \n",
       "\n",
       "         Status  Close Amount Disposition  Day Differences  Amount Differences  \n",
       "4      Canceled          0.00         NaN             10.0             1832.22  \n",
       "13       Denied          0.00        Deny             41.0             2000.00  \n",
       "21      Settled        600.00      Settle             33.0             1400.00  \n",
       "23      Settled        291.67      Settle             35.0             1510.32  \n",
       "27       Denied          0.00        Deny             24.0             7500.00  \n",
       "...         ...           ...         ...              ...                 ...  \n",
       "36208    Denied          0.00        Deny             11.0             2200.00  \n",
       "36210    Denied          0.00        Deny             26.0              900.00  \n",
       "36213    Denied          0.00        Deny              7.0             1240.00  \n",
       "36225    Denied          0.00        Deny             15.0             2300.00  \n",
       "36232    Denied          0.00        Deny             19.0             3650.00  \n",
       "\n",
       "[4103 rows x 15 columns]"
      ]
     },
     "execution_count": 24,
     "metadata": {},
     "output_type": "execute_result"
    }
   ],
   "source": [
    "Q1 = df_tsa['Amount Differences'].quantile(0.25)\n",
    "Q3 = df_tsa['Amount Differences'].quantile(0.75)\n",
    "IQR = Q3 - Q1\n",
    "df_tsa_out = df_tsa[((df_tsa['Amount Differences'] < Q1-(1.5*IQR)) | (df_tsa['Amount Differences'] > Q3+(1.5*IQR)))]\n",
    "df_tsa_out"
   ]
  },
  {
   "cell_type": "code",
   "execution_count": 25,
   "metadata": {},
   "outputs": [
    {
     "data": {
      "text/plain": [
       "count    4.103000e+03\n",
       "mean     4.164579e+04\n",
       "std      1.954354e+06\n",
       "min      8.510100e+02\n",
       "25%      1.214375e+03\n",
       "50%      1.821750e+03\n",
       "75%      3.000000e+03\n",
       "max      1.250000e+08\n",
       "Name: Claim Amount, dtype: float64"
      ]
     },
     "execution_count": 25,
     "metadata": {},
     "output_type": "execute_result"
    }
   ],
   "source": [
    " df_tsa_out['Claim Amount'].describe()"
   ]
  },
  {
   "cell_type": "code",
   "execution_count": 26,
   "metadata": {},
   "outputs": [
    {
     "data": {
      "text/plain": [
       "count     4103.000000\n",
       "mean       114.613646\n",
       "std        686.521806\n",
       "min          0.000000\n",
       "25%          0.000000\n",
       "50%          0.000000\n",
       "75%          0.000000\n",
       "max      20000.000000\n",
       "Name: Close Amount, dtype: float64"
      ]
     },
     "execution_count": 26,
     "metadata": {},
     "output_type": "execute_result"
    }
   ],
   "source": [
    " df_tsa_out['Close Amount'].describe()"
   ]
  },
  {
   "cell_type": "markdown",
   "metadata": {},
   "source": [
    "## Question\n",
    "I assume that many of this big differences happen because these people tend to request for bigger money than what it should be. Do you agree or disagree with my assumption (With an assumption that not outlier is have normal amount differences and outlier have a really big amount differences)? why? Try to explain it with the data "
   ]
  },
  {
   "cell_type": "code",
   "execution_count": 27,
   "metadata": {},
   "outputs": [
    {
     "name": "stderr",
     "output_type": "stream",
     "text": [
      "C:\\Users\\N46VB\\Anaconda3\\lib\\site-packages\\ipykernel_launcher.py:13: SettingWithCopyWarning: \n",
      "A value is trying to be set on a copy of a slice from a DataFrame.\n",
      "Try using .loc[row_indexer,col_indexer] = value instead\n",
      "\n",
      "See the caveats in the documentation: http://pandas.pydata.org/pandas-docs/stable/user_guide/indexing.html#returning-a-view-versus-a-copy\n",
      "  del sys.path[0]\n"
     ]
    }
   ],
   "source": [
    "def true_false(row):\n",
    "    if str(row['Claim Amount']) != 'nan':\n",
    "        if str(row['Close Amount']) != 'nan':\n",
    "            if row['Claim Amount'] > row['Close Amount']:\n",
    "                return 'True'\n",
    "            else:\n",
    "                return 'False'\n",
    "        else:\n",
    "            return row\n",
    "    else:\n",
    "        return row\n",
    "\n",
    "df_tsa_out['T/F'] = df_tsa_out.apply(true_false, axis = 1)"
   ]
  },
  {
   "cell_type": "code",
   "execution_count": 28,
   "metadata": {},
   "outputs": [
    {
     "name": "stdout",
     "output_type": "stream",
     "text": [
      "Denied                          3450\n",
      "Settled                          413\n",
      "Canceled                         178\n",
      "Closed as a contractor claim      60\n",
      "Approved                           2\n",
      "Name: Status, dtype: int64\n"
     ]
    },
    {
     "data": {
      "image/png": "[encoded data removed]",
      "text/plain": [
       "<Figure size 432x288 with 1 Axes>"
      ]
     },
     "metadata": {},
     "output_type": "display_data"
    },
    {
     "name": "stdout",
     "output_type": "stream",
     "text": [
      "True    4103\n",
      "Name: T/F, dtype: int64\n"
     ]
    },
    {
     "data": {
      "image/png": "[encoded data removed]",
      "text/plain": [
       "<Figure size 432x288 with 1 Axes>"
      ]
     },
     "metadata": {},
     "output_type": "display_data"
    }
   ],
   "source": [
    "print(df_tsa_out['Status'].value_counts())\n",
    "type_count= df_tsa_out['Status'].value_counts()\n",
    "type_count.plot(kind='pie')\n",
    "plt.axis('equal')\n",
    "plt.show()\n",
    "print(df_tsa_out['T/F'].value_counts())\n",
    "type_count= df_tsa_out['T/F'].value_counts()\n",
    "type_count.plot(kind='pie')\n",
    "plt.axis('equal')\n",
    "plt.show()"
   ]
  },
  {
   "cell_type": "code",
   "execution_count": 29,
   "metadata": {},
   "outputs": [
    {
     "name": "stderr",
     "output_type": "stream",
     "text": [
      "C:\\Users\\N46VB\\Anaconda3\\lib\\site-packages\\pandas\\core\\frame.py:4102: SettingWithCopyWarning: \n",
      "A value is trying to be set on a copy of a slice from a DataFrame\n",
      "\n",
      "See the caveats in the documentation: http://pandas.pydata.org/pandas-docs/stable/user_guide/indexing.html#returning-a-view-versus-a-copy\n",
      "  errors=errors,\n"
     ]
    },
    {
     "data": {
      "text/html": [
       "<div>\n",
       "<style scoped>\n",
       "    .dataframe tbody tr th:only-of-type {\n",
       "        vertical-align: middle;\n",
       "    }\n",
       "\n",
       "    .dataframe tbody tr th {\n",
       "        vertical-align: top;\n",
       "    }\n",
       "\n",
       "    .dataframe thead th {\n",
       "        text-align: right;\n",
       "    }\n",
       "</style>\n",
       "<table border=\"1\" class=\"dataframe\">\n",
       "  <thead>\n",
       "    <tr style=\"text-align: right;\">\n",
       "      <th></th>\n",
       "      <th>Claim Number</th>\n",
       "      <th>Date Received</th>\n",
       "      <th>Incident Date</th>\n",
       "      <th>Airport Code</th>\n",
       "      <th>Airport Name</th>\n",
       "      <th>Airline Name</th>\n",
       "      <th>Claim Type</th>\n",
       "      <th>Claim Site</th>\n",
       "      <th>Item</th>\n",
       "      <th>Claim Amount</th>\n",
       "      <th>Status</th>\n",
       "      <th>Close Amount</th>\n",
       "      <th>Disposition</th>\n",
       "      <th>Day Differences</th>\n",
       "      <th>Amount Differences</th>\n",
       "    </tr>\n",
       "  </thead>\n",
       "  <tbody>\n",
       "    <tr>\n",
       "      <td>7790</td>\n",
       "      <td>0329800M</td>\n",
       "      <td>2004-03-29</td>\n",
       "      <td>2004-02-19</td>\n",
       "      <td>BOS</td>\n",
       "      <td>Boston (Logan) International Airport</td>\n",
       "      <td>NaN</td>\n",
       "      <td>Passenger Property Loss</td>\n",
       "      <td>Checked Baggage</td>\n",
       "      <td>DVD/CD Players</td>\n",
       "      <td>1739.0</td>\n",
       "      <td>Approved</td>\n",
       "      <td>250.0</td>\n",
       "      <td>Approve in Full</td>\n",
       "      <td>39.0</td>\n",
       "      <td>1489.0</td>\n",
       "    </tr>\n",
       "    <tr>\n",
       "      <td>9774</td>\n",
       "      <td>2004081261270</td>\n",
       "      <td>2004-07-09</td>\n",
       "      <td>2004-07-10</td>\n",
       "      <td>SAN</td>\n",
       "      <td>San Diego International</td>\n",
       "      <td>Jet Blue</td>\n",
       "      <td>Passenger Theft</td>\n",
       "      <td>Checked Baggage</td>\n",
       "      <td>Jewelry - Fine</td>\n",
       "      <td>1565.0</td>\n",
       "      <td>Approved</td>\n",
       "      <td>0.0</td>\n",
       "      <td>Approve in Full</td>\n",
       "      <td>-1.0</td>\n",
       "      <td>1565.0</td>\n",
       "    </tr>\n",
       "  </tbody>\n",
       "</table>\n",
       "</div>"
      ],
      "text/plain": [
       "       Claim Number Date Received Incident Date Airport Code  \\\n",
       "7790       0329800M    2004-03-29    2004-02-19          BOS   \n",
       "9774  2004081261270    2004-07-09    2004-07-10          SAN   \n",
       "\n",
       "                              Airport Name Airline Name  \\\n",
       "7790  Boston (Logan) International Airport          NaN   \n",
       "9774               San Diego International     Jet Blue   \n",
       "\n",
       "                   Claim Type       Claim Site            Item  Claim Amount  \\\n",
       "7790  Passenger Property Loss  Checked Baggage  DVD/CD Players        1739.0   \n",
       "9774          Passenger Theft  Checked Baggage  Jewelry - Fine        1565.0   \n",
       "\n",
       "        Status  Close Amount      Disposition  Day Differences  \\\n",
       "7790  Approved         250.0  Approve in Full             39.0   \n",
       "9774  Approved           0.0  Approve in Full             -1.0   \n",
       "\n",
       "      Amount Differences  \n",
       "7790              1489.0  \n",
       "9774              1565.0  "
      ]
     },
     "execution_count": 29,
     "metadata": {},
     "output_type": "execute_result"
    }
   ],
   "source": [
    "df_tsa_out.drop('T/F', axis = 1, inplace = True)\n",
    "df_tsa_out[df_tsa_out['Status']=='Approved']"
   ]
  },
  {
   "cell_type": "markdown",
   "metadata": {},
   "source": [
    "### Answer\n",
    "\n",
    "- I agree with the statement, the Claim Amount is always higher than the Close Amount. \n",
    "- I have made a new column to find out whether or not this was true, as it turns out all of the data is True to have higher Claim Amount than the Close Amount. \n",
    "- The data presented from Status also shows that most of the items being claimed are declined by the TSA. Only two items are approved so far, they are jewelry and electronic device."
   ]
  },
  {
   "cell_type": "markdown",
   "metadata": {},
   "source": [
    "# Analysis\n",
    "## Question\n",
    "1. Is there Any relationship between the Airport and/or the Airline with the number of the claim that happen and the Claim Type? Also why is there a NaN in the Claim Type column?\n",
    "\n",
    "2. If you realize, there is many different classes in the Status and Disposition column. What pattern you could find in these 2 columns because of this classes variation? is there any relation with the other columns?"
   ]
  },
  {
   "cell_type": "code",
   "execution_count": 30,
   "metadata": {},
   "outputs": [
    {
     "data": {
      "text/plain": [
       "count                        3958\n",
       "unique                          6\n",
       "top       Passenger Property Loss\n",
       "freq                         3063\n",
       "Name: Claim Type, dtype: object"
      ]
     },
     "execution_count": 30,
     "metadata": {},
     "output_type": "execute_result"
    }
   ],
   "source": [
    "df_tsa_out['Claim Type'].describe()"
   ]
  },
  {
   "cell_type": "code",
   "execution_count": 31,
   "metadata": {},
   "outputs": [
    {
     "data": {
      "text/plain": [
       "Delta Air Lines         534\n",
       "American Airlines       534\n",
       "UAL                     379\n",
       "Continental Airlines    332\n",
       "Southwest Airlines      301\n",
       "                       ... \n",
       "Cayman Airlines           1\n",
       "Emirates                  1\n",
       "Thai Airways              1\n",
       "Copa Airlines             1\n",
       "Air China                 1\n",
       "Name: Airline Name, Length: 93, dtype: int64"
      ]
     },
     "execution_count": 31,
     "metadata": {},
     "output_type": "execute_result"
    }
   ],
   "source": [
    "df_tsa_out['Airline Name'].value_counts()"
   ]
  },
  {
   "cell_type": "code",
   "execution_count": 32,
   "metadata": {},
   "outputs": [
    {
     "data": {
      "text/plain": [
       "Text(0.5, 1.0, 'Airline Name')"
      ]
     },
     "execution_count": 32,
     "metadata": {},
     "output_type": "execute_result"
    },
    {
     "data": {
      "image/png": "[encoded data removed]",
      "text/plain": [
       "<Figure size 1080x720 with 1 Axes>"
      ]
     },
     "metadata": {
      "needs_background": "light"
     },
     "output_type": "display_data"
    }
   ],
   "source": [
    "plt.figure(figsize=(15,10))\n",
    "ax = sns.countplot(y='Airline Name', data=df_tsa_out)\n",
    "# ax.set_yticklabels(ax.get_yticklabels(), rotation=40, ha=\"right\")\n",
    "plt.title('Airline Name')"
   ]
  },
  {
   "cell_type": "code",
   "execution_count": 33,
   "metadata": {},
   "outputs": [
    {
     "name": "stdout",
     "output_type": "stream",
     "text": [
      "Passenger Property Loss    3063\n",
      "Property Damage             740\n",
      "Personal Injury             127\n",
      "Passenger Theft              13\n",
      "Motor Vehicle                 8\n",
      "Employee Loss (MPCECA)        7\n",
      "Name: Claim Type, dtype: int64\n"
     ]
    },
    {
     "data": {
      "text/plain": [
       "Text(0.5, 1.0, 'Claim Type')"
      ]
     },
     "execution_count": 33,
     "metadata": {},
     "output_type": "execute_result"
    },
    {
     "data": {
      "image/png": "[encoded data removed]",
      "text/plain": [
       "<Figure size 1080x432 with 1 Axes>"
      ]
     },
     "metadata": {
      "needs_background": "light"
     },
     "output_type": "display_data"
    }
   ],
   "source": [
    "print(df_tsa_out['Claim Type'].value_counts())\n",
    "plt.figure(figsize=(15,6))\n",
    "ax = sns.countplot(x='Claim Type', data=df_tsa_out)\n",
    "# ax.set_yticklabels(ax.get_yticklabels(), rotation=40, ha=\"right\")\n",
    "plt.title('Claim Type')"
   ]
  },
  {
   "cell_type": "code",
   "execution_count": 34,
   "metadata": {},
   "outputs": [
    {
     "name": "stdout",
     "output_type": "stream",
     "text": [
      "American Airlines     4\n",
      "Southwest Airlines    2\n",
      "UAL                   1\n",
      "America West          1\n",
      "Jet Blue              1\n",
      "Virgin Atlantic       1\n",
      "Northwest Airlines    1\n",
      "Name: Airline Name, dtype: int64\n"
     ]
    },
    {
     "data": {
      "text/plain": [
       "Text(0.5, 1.0, 'Airline Name based on Passenger Property Loss')"
      ]
     },
     "execution_count": 34,
     "metadata": {},
     "output_type": "execute_result"
    },
    {
     "data": {
      "image/png": "[encoded data removed]",
      "text/plain": [
       "<Figure size 1080x432 with 1 Axes>"
      ]
     },
     "metadata": {
      "needs_background": "light"
     },
     "output_type": "display_data"
    }
   ],
   "source": [
    "theft_df = df_tsa_out[(df_tsa_out['Claim Type'] == 'Passenger Theft')]\n",
    "\n",
    "print(theft_df['Airline Name'].value_counts())\n",
    "plt.figure(figsize=(15,6))\n",
    "ax = sns.countplot(x='Airline Name', data=theft_df)\n",
    "# ax.set_yticklabels(ax.get_yticklabels(), rotation=40, ha=\"right\")\n",
    "plt.title('Airline Name based on Passenger Property Loss')"
   ]
  },
  {
   "cell_type": "markdown",
   "metadata": {},
   "source": [
    "### Answer #1\n",
    "- From the bar graph above, TSA has the most claims using American Airlines and Delta Air Lines both at 534 claims. The least claims valued at 1 claim and some of them are claims using the Air China, Royal Dutch Airlines, etc.\n",
    "- As for the Nan values, I think there are items that are not categorized by the TSA in their catalog, therefore there are Nan values, as there are no suitable categories.\n",
    "- From the Data and the graph plotted above there are no correlation found between the airline being operated and the Claim Type."
   ]
  },
  {
   "cell_type": "code",
   "execution_count": 35,
   "metadata": {},
   "outputs": [
    {
     "data": {
      "text/plain": [
       "Deny               3450\n",
       "Settle              413\n",
       "Approve in Full       2\n",
       "Name: Disposition, dtype: int64"
      ]
     },
     "execution_count": 35,
     "metadata": {},
     "output_type": "execute_result"
    }
   ],
   "source": [
    "df_tsa_out['Disposition'].value_counts()"
   ]
  },
  {
   "cell_type": "code",
   "execution_count": 36,
   "metadata": {},
   "outputs": [
    {
     "data": {
      "text/html": [
       "<div>\n",
       "<style scoped>\n",
       "    .dataframe tbody tr th:only-of-type {\n",
       "        vertical-align: middle;\n",
       "    }\n",
       "\n",
       "    .dataframe tbody tr th {\n",
       "        vertical-align: top;\n",
       "    }\n",
       "\n",
       "    .dataframe thead th {\n",
       "        text-align: right;\n",
       "    }\n",
       "</style>\n",
       "<table border=\"1\" class=\"dataframe\">\n",
       "  <thead>\n",
       "    <tr style=\"text-align: right;\">\n",
       "      <th></th>\n",
       "      <th>Claim Number</th>\n",
       "      <th>Date Received</th>\n",
       "      <th>Incident Date</th>\n",
       "      <th>Airport Code</th>\n",
       "      <th>Airport Name</th>\n",
       "      <th>Airline Name</th>\n",
       "      <th>Claim Type</th>\n",
       "      <th>Claim Site</th>\n",
       "      <th>Item</th>\n",
       "      <th>Claim Amount</th>\n",
       "      <th>Status</th>\n",
       "      <th>Close Amount</th>\n",
       "      <th>Disposition</th>\n",
       "      <th>Day Differences</th>\n",
       "      <th>Amount Differences</th>\n",
       "    </tr>\n",
       "  </thead>\n",
       "  <tbody>\n",
       "    <tr>\n",
       "      <td>9774</td>\n",
       "      <td>2004081261270</td>\n",
       "      <td>2004-07-09</td>\n",
       "      <td>2004-07-10</td>\n",
       "      <td>SAN</td>\n",
       "      <td>San Diego International</td>\n",
       "      <td>Jet Blue</td>\n",
       "      <td>Passenger Theft</td>\n",
       "      <td>Checked Baggage</td>\n",
       "      <td>Jewelry - Fine</td>\n",
       "      <td>1565.0</td>\n",
       "      <td>Approved</td>\n",
       "      <td>0.0</td>\n",
       "      <td>Approve in Full</td>\n",
       "      <td>-1.0</td>\n",
       "      <td>1565.0</td>\n",
       "    </tr>\n",
       "  </tbody>\n",
       "</table>\n",
       "</div>"
      ],
      "text/plain": [
       "       Claim Number Date Received Incident Date Airport Code  \\\n",
       "9774  2004081261270    2004-07-09    2004-07-10          SAN   \n",
       "\n",
       "                 Airport Name Airline Name       Claim Type       Claim Site  \\\n",
       "9774  San Diego International     Jet Blue  Passenger Theft  Checked Baggage   \n",
       "\n",
       "                Item  Claim Amount    Status  Close Amount      Disposition  \\\n",
       "9774  Jewelry - Fine        1565.0  Approved           0.0  Approve in Full   \n",
       "\n",
       "      Day Differences  Amount Differences  \n",
       "9774             -1.0              1565.0  "
      ]
     },
     "execution_count": 36,
     "metadata": {},
     "output_type": "execute_result"
    }
   ],
   "source": [
    "df_tsa_out[(df_tsa_out['Disposition'] == 'Approve in Full') & (df_tsa_out['Close Amount']==0)]"
   ]
  },
  {
   "cell_type": "markdown",
   "metadata": {},
   "source": [
    "### Answer #2\n",
    "- From the data given, only two Status have been approved and from that approvement it is approved in Full by the TSA according to the previous desrciption.\n",
    "- Those Status that are 'Settled' are those that have a value in the column Close Amount, whereas those without any value in the Close Amount are denied. This also means that the TSA only Settles claim that have a Close Amount value.\n",
    "- There is one data that is Settled without the Close Amount, Claim Number 2004081261270 has been Approved in Full without Close Amount"
   ]
  },
  {
   "cell_type": "markdown",
   "metadata": {},
   "source": [
    "### Insights"
   ]
  },
  {
   "cell_type": "code",
   "execution_count": 37,
   "metadata": {},
   "outputs": [
    {
     "name": "stderr",
     "output_type": "stream",
     "text": [
      "C:\\Users\\N46VB\\Anaconda3\\lib\\site-packages\\ipykernel_launcher.py:1: SettingWithCopyWarning: \n",
      "A value is trying to be set on a copy of a slice from a DataFrame.\n",
      "Try using .loc[row_indexer,col_indexer] = value instead\n",
      "\n",
      "See the caveats in the documentation: http://pandas.pydata.org/pandas-docs/stable/user_guide/indexing.html#returning-a-view-versus-a-copy\n",
      "  \"\"\"Entry point for launching an IPython kernel.\n"
     ]
    }
   ],
   "source": [
    "df_tsa_out['month'] = df_tsa_out['Incident Date'].dt.month"
   ]
  },
  {
   "cell_type": "code",
   "execution_count": 38,
   "metadata": {},
   "outputs": [
    {
     "name": "stderr",
     "output_type": "stream",
     "text": [
      "C:\\Users\\N46VB\\Anaconda3\\lib\\site-packages\\ipykernel_launcher.py:27: SettingWithCopyWarning: \n",
      "A value is trying to be set on a copy of a slice from a DataFrame.\n",
      "Try using .loc[row_indexer,col_indexer] = value instead\n",
      "\n",
      "See the caveats in the documentation: http://pandas.pydata.org/pandas-docs/stable/user_guide/indexing.html#returning-a-view-versus-a-copy\n"
     ]
    }
   ],
   "source": [
    "def month(cols):\n",
    "    if cols == 1:\n",
    "        return 'January'\n",
    "    if cols == 2:\n",
    "        return 'February'\n",
    "    if cols == 3:\n",
    "        return 'March'\n",
    "    if cols == 4:\n",
    "        return 'April'\n",
    "    if cols == 5:\n",
    "        return 'May'\n",
    "    if cols == 6:\n",
    "        return 'June'\n",
    "    if cols == 7:\n",
    "        return 'July'\n",
    "    if cols == 8:\n",
    "        return 'August'\n",
    "    if cols == 9:\n",
    "        return 'September'\n",
    "    if cols == 10:\n",
    "        return 'October'\n",
    "    if cols == 11:\n",
    "        return 'November'\n",
    "    if cols == 12:\n",
    "        return 'December'\n",
    "    \n",
    "df_tsa_out['month_name'] = df_tsa_out['month'].apply(month)"
   ]
  },
  {
   "cell_type": "code",
   "execution_count": 39,
   "metadata": {},
   "outputs": [
    {
     "name": "stdout",
     "output_type": "stream",
     "text": [
      "August       389\n",
      "March        382\n",
      "January      375\n",
      "July         366\n",
      "October      365\n",
      "December     352\n",
      "April        326\n",
      "May          324\n",
      "June         318\n",
      "November     308\n",
      "September    305\n",
      "February     285\n",
      "Name: month_name, dtype: int64\n"
     ]
    },
    {
     "data": {
      "image/png": "[encoded data removed]",
      "text/plain": [
       "<Figure size 432x288 with 1 Axes>"
      ]
     },
     "metadata": {},
     "output_type": "display_data"
    }
   ],
   "source": [
    "print(df_tsa_out['month_name'].value_counts())\n",
    "type_count= df_tsa_out['month_name'].value_counts()\n",
    "type_count.plot(kind='pie')\n",
    "plt.axis('equal')\n",
    "plt.show()"
   ]
  },
  {
   "cell_type": "markdown",
   "metadata": {},
   "source": [
    "- If the data are categorized based on the month it occured, there are no dominant value of claim at any time of the year.\n",
    "- There are no relationship between the Incident Date and the pattern of the claims as they have similar values of claim"
   ]
  },
  {
   "cell_type": "code",
   "execution_count": 40,
   "metadata": {},
   "outputs": [
    {
     "name": "stdout",
     "output_type": "stream",
     "text": [
      "Passenger Property Loss    3063\n",
      "Property Damage             740\n",
      "Personal Injury             127\n",
      "Passenger Theft              13\n",
      "Motor Vehicle                 8\n",
      "Employee Loss (MPCECA)        7\n",
      "Name: Claim Type, dtype: int64\n"
     ]
    },
    {
     "data": {
      "image/png": "[encoded data removed]",
      "text/plain": [
       "<Figure size 432x288 with 1 Axes>"
      ]
     },
     "metadata": {},
     "output_type": "display_data"
    }
   ],
   "source": [
    "print(df_tsa_out['Claim Type'].value_counts())\n",
    "type_count= df_tsa_out['Claim Type'].value_counts()\n",
    "type_count.plot(kind='pie')\n",
    "plt.axis('equal')\n",
    "plt.show()"
   ]
  },
  {
   "cell_type": "code",
   "execution_count": 41,
   "metadata": {},
   "outputs": [
    {
     "data": {
      "text/plain": [
       "Deny               2646\n",
       "Settle              226\n",
       "Approve in Full       1\n",
       "Name: Disposition, dtype: int64"
      ]
     },
     "execution_count": 41,
     "metadata": {},
     "output_type": "execute_result"
    }
   ],
   "source": [
    "df_tsa_out[(df_tsa_out['Claim Type'] == 'Passenger Property Loss')]['Disposition'].value_counts()"
   ]
  },
  {
   "cell_type": "code",
   "execution_count": 42,
   "metadata": {},
   "outputs": [
    {
     "data": {
      "text/plain": [
       "Deny      575\n",
       "Settle    138\n",
       "Name: Disposition, dtype: int64"
      ]
     },
     "execution_count": 42,
     "metadata": {},
     "output_type": "execute_result"
    }
   ],
   "source": [
    "df_tsa_out[(df_tsa_out['Claim Type'] == 'Property Damage')]['Disposition'].value_counts()"
   ]
  },
  {
   "cell_type": "markdown",
   "metadata": {},
   "source": [
    "- Most of the Claim Type are of Passenger Property Loss\n",
    "- Those with Claim Type Passenger Property Loss have a 92 percentage of being Denied by the TSA\n",
    "- Those with Claim Type Property Damage have 19 percentage of being Settled by the TSA"
   ]
  },
  {
   "cell_type": "code",
   "execution_count": null,
   "metadata": {},
   "outputs": [],
   "source": []
  },
  {
   "cell_type": "code",
   "execution_count": null,
   "metadata": {},
   "outputs": [],
   "source": []
  },
  {
   "cell_type": "code",
   "execution_count": null,
   "metadata": {},
   "outputs": [],
   "source": []
  },
  {
   "cell_type": "code",
   "execution_count": null,
   "metadata": {},
   "outputs": [],
   "source": []
  },
  {
   "cell_type": "code",
   "execution_count": 43,
   "metadata": {},
   "outputs": [],
   "source": [
    "data_dash = df_tsa_out.copy()\n",
    "data_dash.dropna(inplace = True)"
   ]
  },
  {
   "cell_type": "code",
   "execution_count": 44,
   "metadata": {},
   "outputs": [],
   "source": [
    "np.random.seed(101)"
   ]
  },
  {
   "cell_type": "code",
   "execution_count": 45,
   "metadata": {},
   "outputs": [],
   "source": [
    "data_tsa = data_dash.sample(n=1000, random_state = np.random.seed(101))"
   ]
  },
  {
   "cell_type": "code",
   "execution_count": 46,
   "metadata": {},
   "outputs": [
    {
     "data": {
      "text/html": [
       "<div>\n",
       "<style scoped>\n",
       "    .dataframe tbody tr th:only-of-type {\n",
       "        vertical-align: middle;\n",
       "    }\n",
       "\n",
       "    .dataframe tbody tr th {\n",
       "        vertical-align: top;\n",
       "    }\n",
       "\n",
       "    .dataframe thead th {\n",
       "        text-align: right;\n",
       "    }\n",
       "</style>\n",
       "<table border=\"1\" class=\"dataframe\">\n",
       "  <thead>\n",
       "    <tr style=\"text-align: right;\">\n",
       "      <th></th>\n",
       "      <th>index</th>\n",
       "      <th>Claim Number</th>\n",
       "      <th>Date Received</th>\n",
       "      <th>Incident Date</th>\n",
       "      <th>Airport Code</th>\n",
       "      <th>Airport Name</th>\n",
       "      <th>Airline Name</th>\n",
       "      <th>Claim Type</th>\n",
       "      <th>Claim Site</th>\n",
       "      <th>Item</th>\n",
       "      <th>Claim Amount</th>\n",
       "      <th>Status</th>\n",
       "      <th>Close Amount</th>\n",
       "      <th>Disposition</th>\n",
       "      <th>Day Differences</th>\n",
       "      <th>Amount Differences</th>\n",
       "      <th>month</th>\n",
       "      <th>month_name</th>\n",
       "    </tr>\n",
       "  </thead>\n",
       "  <tbody>\n",
       "    <tr>\n",
       "      <td>0</td>\n",
       "      <td>23165</td>\n",
       "      <td>2006101013808</td>\n",
       "      <td>2006-10-03</td>\n",
       "      <td>2006-09-21 00:00:00</td>\n",
       "      <td>SAN</td>\n",
       "      <td>San Diego International</td>\n",
       "      <td>Alaska Airlines</td>\n",
       "      <td>Passenger Property Loss</td>\n",
       "      <td>Checked Baggage</td>\n",
       "      <td>Computer - Laptop; Video Recordings (blank &amp; c...</td>\n",
       "      <td>1200.00</td>\n",
       "      <td>Denied</td>\n",
       "      <td>0.0</td>\n",
       "      <td>Deny</td>\n",
       "      <td>12.0</td>\n",
       "      <td>1200.00</td>\n",
       "      <td>9.0</td>\n",
       "      <td>September</td>\n",
       "    </tr>\n",
       "    <tr>\n",
       "      <td>1</td>\n",
       "      <td>26416</td>\n",
       "      <td>2007061126701</td>\n",
       "      <td>2007-06-07</td>\n",
       "      <td>2007-04-16 00:00:00</td>\n",
       "      <td>JFK</td>\n",
       "      <td>John F. Kennedy International</td>\n",
       "      <td>American Airlines</td>\n",
       "      <td>Passenger Property Loss</td>\n",
       "      <td>Checked Baggage</td>\n",
       "      <td>Computer - Laptop</td>\n",
       "      <td>1726.99</td>\n",
       "      <td>Denied</td>\n",
       "      <td>0.0</td>\n",
       "      <td>Deny</td>\n",
       "      <td>52.0</td>\n",
       "      <td>1726.99</td>\n",
       "      <td>4.0</td>\n",
       "      <td>April</td>\n",
       "    </tr>\n",
       "    <tr>\n",
       "      <td>2</td>\n",
       "      <td>36090</td>\n",
       "      <td>2009111765441</td>\n",
       "      <td>2009-12-11</td>\n",
       "      <td>2009-10-28 10:13:00</td>\n",
       "      <td>DEN</td>\n",
       "      <td>Denver International Airport</td>\n",
       "      <td>Frontier Airlines</td>\n",
       "      <td>Passenger Property Loss</td>\n",
       "      <td>Checked Baggage</td>\n",
       "      <td>Decorations - Christmas; Birthday; etc.; Medic...</td>\n",
       "      <td>1280.00</td>\n",
       "      <td>Denied</td>\n",
       "      <td>0.0</td>\n",
       "      <td>Deny</td>\n",
       "      <td>43.0</td>\n",
       "      <td>1280.00</td>\n",
       "      <td>10.0</td>\n",
       "      <td>October</td>\n",
       "    </tr>\n",
       "    <tr>\n",
       "      <td>3</td>\n",
       "      <td>34167</td>\n",
       "      <td>2009051958919</td>\n",
       "      <td>2009-05-04</td>\n",
       "      <td>2009-04-13 00:00:00</td>\n",
       "      <td>BOS</td>\n",
       "      <td>Boston (Logan) International Airport</td>\n",
       "      <td>Jet Blue</td>\n",
       "      <td>Passenger Property Loss</td>\n",
       "      <td>Checkpoint</td>\n",
       "      <td>Jewelry - Fine</td>\n",
       "      <td>2950.00</td>\n",
       "      <td>Denied</td>\n",
       "      <td>0.0</td>\n",
       "      <td>Deny</td>\n",
       "      <td>21.0</td>\n",
       "      <td>2950.00</td>\n",
       "      <td>4.0</td>\n",
       "      <td>April</td>\n",
       "    </tr>\n",
       "    <tr>\n",
       "      <td>4</td>\n",
       "      <td>33460</td>\n",
       "      <td>2009031056027</td>\n",
       "      <td>2009-02-13</td>\n",
       "      <td>2008-12-11 00:00:00</td>\n",
       "      <td>JFK</td>\n",
       "      <td>John F. Kennedy International</td>\n",
       "      <td>Jet Blue</td>\n",
       "      <td>Passenger Property Loss</td>\n",
       "      <td>Checked Baggage</td>\n",
       "      <td>Cameras - Digital; Jewelry - Fine</td>\n",
       "      <td>1225.47</td>\n",
       "      <td>Denied</td>\n",
       "      <td>0.0</td>\n",
       "      <td>Deny</td>\n",
       "      <td>64.0</td>\n",
       "      <td>1225.47</td>\n",
       "      <td>12.0</td>\n",
       "      <td>December</td>\n",
       "    </tr>\n",
       "    <tr>\n",
       "      <td>...</td>\n",
       "      <td>...</td>\n",
       "      <td>...</td>\n",
       "      <td>...</td>\n",
       "      <td>...</td>\n",
       "      <td>...</td>\n",
       "      <td>...</td>\n",
       "      <td>...</td>\n",
       "      <td>...</td>\n",
       "      <td>...</td>\n",
       "      <td>...</td>\n",
       "      <td>...</td>\n",
       "      <td>...</td>\n",
       "      <td>...</td>\n",
       "      <td>...</td>\n",
       "      <td>...</td>\n",
       "      <td>...</td>\n",
       "      <td>...</td>\n",
       "      <td>...</td>\n",
       "    </tr>\n",
       "    <tr>\n",
       "      <td>995</td>\n",
       "      <td>25715</td>\n",
       "      <td>2007041323988</td>\n",
       "      <td>2007-04-11</td>\n",
       "      <td>2007-04-08 00:00:00</td>\n",
       "      <td>FLL</td>\n",
       "      <td>Ft. Lauderdale-Hollywood International</td>\n",
       "      <td>Frontier Airlines</td>\n",
       "      <td>Passenger Property Loss</td>\n",
       "      <td>Checked Baggage</td>\n",
       "      <td>Jewelry - Costume; Jewelry - Fine</td>\n",
       "      <td>2237.00</td>\n",
       "      <td>Denied</td>\n",
       "      <td>0.0</td>\n",
       "      <td>Deny</td>\n",
       "      <td>3.0</td>\n",
       "      <td>2237.00</td>\n",
       "      <td>4.0</td>\n",
       "      <td>April</td>\n",
       "    </tr>\n",
       "    <tr>\n",
       "      <td>996</td>\n",
       "      <td>18986</td>\n",
       "      <td>2005120797259</td>\n",
       "      <td>2005-11-28</td>\n",
       "      <td>2005-11-13 00:00:00</td>\n",
       "      <td>TPA</td>\n",
       "      <td>Tampa International</td>\n",
       "      <td>Independence Air</td>\n",
       "      <td>Passenger Property Loss</td>\n",
       "      <td>Checked Baggage</td>\n",
       "      <td>Cameras - Digital; DVD/CD Players</td>\n",
       "      <td>1061.00</td>\n",
       "      <td>Denied</td>\n",
       "      <td>0.0</td>\n",
       "      <td>Deny</td>\n",
       "      <td>15.0</td>\n",
       "      <td>1061.00</td>\n",
       "      <td>11.0</td>\n",
       "      <td>November</td>\n",
       "    </tr>\n",
       "    <tr>\n",
       "      <td>997</td>\n",
       "      <td>30346</td>\n",
       "      <td>2008031140781</td>\n",
       "      <td>2008-04-15</td>\n",
       "      <td>2008-01-29 00:00:00</td>\n",
       "      <td>BWI</td>\n",
       "      <td>Baltimore/Washington Intl Thurgood Marshall</td>\n",
       "      <td>Southwest Airlines</td>\n",
       "      <td>Passenger Property Loss</td>\n",
       "      <td>Checkpoint</td>\n",
       "      <td>Jewelry - Fine</td>\n",
       "      <td>1088.00</td>\n",
       "      <td>Denied</td>\n",
       "      <td>0.0</td>\n",
       "      <td>Deny</td>\n",
       "      <td>77.0</td>\n",
       "      <td>1088.00</td>\n",
       "      <td>1.0</td>\n",
       "      <td>January</td>\n",
       "    </tr>\n",
       "    <tr>\n",
       "      <td>998</td>\n",
       "      <td>13172</td>\n",
       "      <td>2005012474050</td>\n",
       "      <td>2004-12-28</td>\n",
       "      <td>2004-12-06 00:00:00</td>\n",
       "      <td>HOU</td>\n",
       "      <td>William P. Hobby</td>\n",
       "      <td>Southwest Airlines</td>\n",
       "      <td>Passenger Property Loss</td>\n",
       "      <td>Checked Baggage</td>\n",
       "      <td>Other</td>\n",
       "      <td>900.00</td>\n",
       "      <td>Denied</td>\n",
       "      <td>0.0</td>\n",
       "      <td>Deny</td>\n",
       "      <td>22.0</td>\n",
       "      <td>900.00</td>\n",
       "      <td>12.0</td>\n",
       "      <td>December</td>\n",
       "    </tr>\n",
       "    <tr>\n",
       "      <td>999</td>\n",
       "      <td>28891</td>\n",
       "      <td>2007122837079</td>\n",
       "      <td>2007-12-20</td>\n",
       "      <td>2007-11-10 00:00:00</td>\n",
       "      <td>SEA</td>\n",
       "      <td>Seattle-Tacoma International</td>\n",
       "      <td>Alaska Airlines</td>\n",
       "      <td>Property Damage</td>\n",
       "      <td>Checked Baggage</td>\n",
       "      <td>Dishes; Pottery; Glassware; Plasticware</td>\n",
       "      <td>50000.00</td>\n",
       "      <td>Denied</td>\n",
       "      <td>0.0</td>\n",
       "      <td>Deny</td>\n",
       "      <td>40.0</td>\n",
       "      <td>50000.00</td>\n",
       "      <td>11.0</td>\n",
       "      <td>November</td>\n",
       "    </tr>\n",
       "  </tbody>\n",
       "</table>\n",
       "<p>1000 rows × 18 columns</p>\n",
       "</div>"
      ],
      "text/plain": [
       "     index   Claim Number Date Received       Incident Date Airport Code  \\\n",
       "0    23165  2006101013808    2006-10-03 2006-09-21 00:00:00          SAN   \n",
       "1    26416  2007061126701    2007-06-07 2007-04-16 00:00:00          JFK   \n",
       "2    36090  2009111765441    2009-12-11 2009-10-28 10:13:00          DEN   \n",
       "3    34167  2009051958919    2009-05-04 2009-04-13 00:00:00          BOS   \n",
       "4    33460  2009031056027    2009-02-13 2008-12-11 00:00:00          JFK   \n",
       "..     ...            ...           ...                 ...          ...   \n",
       "995  25715  2007041323988    2007-04-11 2007-04-08 00:00:00          FLL   \n",
       "996  18986  2005120797259    2005-11-28 2005-11-13 00:00:00          TPA   \n",
       "997  30346  2008031140781    2008-04-15 2008-01-29 00:00:00          BWI   \n",
       "998  13172  2005012474050    2004-12-28 2004-12-06 00:00:00          HOU   \n",
       "999  28891  2007122837079    2007-12-20 2007-11-10 00:00:00          SEA   \n",
       "\n",
       "                                    Airport Name        Airline Name  \\\n",
       "0                        San Diego International     Alaska Airlines   \n",
       "1                  John F. Kennedy International   American Airlines   \n",
       "2                   Denver International Airport   Frontier Airlines   \n",
       "3           Boston (Logan) International Airport            Jet Blue   \n",
       "4                  John F. Kennedy International            Jet Blue   \n",
       "..                                           ...                 ...   \n",
       "995       Ft. Lauderdale-Hollywood International   Frontier Airlines   \n",
       "996                          Tampa International    Independence Air   \n",
       "997  Baltimore/Washington Intl Thurgood Marshall  Southwest Airlines   \n",
       "998                             William P. Hobby  Southwest Airlines   \n",
       "999                 Seattle-Tacoma International     Alaska Airlines   \n",
       "\n",
       "                  Claim Type       Claim Site  \\\n",
       "0    Passenger Property Loss  Checked Baggage   \n",
       "1    Passenger Property Loss  Checked Baggage   \n",
       "2    Passenger Property Loss  Checked Baggage   \n",
       "3    Passenger Property Loss       Checkpoint   \n",
       "4    Passenger Property Loss  Checked Baggage   \n",
       "..                       ...              ...   \n",
       "995  Passenger Property Loss  Checked Baggage   \n",
       "996  Passenger Property Loss  Checked Baggage   \n",
       "997  Passenger Property Loss       Checkpoint   \n",
       "998  Passenger Property Loss  Checked Baggage   \n",
       "999          Property Damage  Checked Baggage   \n",
       "\n",
       "                                                  Item  Claim Amount  Status  \\\n",
       "0    Computer - Laptop; Video Recordings (blank & c...       1200.00  Denied   \n",
       "1                                    Computer - Laptop       1726.99  Denied   \n",
       "2    Decorations - Christmas; Birthday; etc.; Medic...       1280.00  Denied   \n",
       "3                                       Jewelry - Fine       2950.00  Denied   \n",
       "4                    Cameras - Digital; Jewelry - Fine       1225.47  Denied   \n",
       "..                                                 ...           ...     ...   \n",
       "995                  Jewelry - Costume; Jewelry - Fine       2237.00  Denied   \n",
       "996                  Cameras - Digital; DVD/CD Players       1061.00  Denied   \n",
       "997                                     Jewelry - Fine       1088.00  Denied   \n",
       "998                                              Other        900.00  Denied   \n",
       "999            Dishes; Pottery; Glassware; Plasticware      50000.00  Denied   \n",
       "\n",
       "     Close Amount Disposition  Day Differences  Amount Differences  month  \\\n",
       "0             0.0        Deny             12.0             1200.00    9.0   \n",
       "1             0.0        Deny             52.0             1726.99    4.0   \n",
       "2             0.0        Deny             43.0             1280.00   10.0   \n",
       "3             0.0        Deny             21.0             2950.00    4.0   \n",
       "4             0.0        Deny             64.0             1225.47   12.0   \n",
       "..            ...         ...              ...                 ...    ...   \n",
       "995           0.0        Deny              3.0             2237.00    4.0   \n",
       "996           0.0        Deny             15.0             1061.00   11.0   \n",
       "997           0.0        Deny             77.0             1088.00    1.0   \n",
       "998           0.0        Deny             22.0              900.00   12.0   \n",
       "999           0.0        Deny             40.0            50000.00   11.0   \n",
       "\n",
       "    month_name  \n",
       "0    September  \n",
       "1        April  \n",
       "2      October  \n",
       "3        April  \n",
       "4     December  \n",
       "..         ...  \n",
       "995      April  \n",
       "996   November  \n",
       "997    January  \n",
       "998   December  \n",
       "999   November  \n",
       "\n",
       "[1000 rows x 18 columns]"
      ]
     },
     "execution_count": 46,
     "metadata": {},
     "output_type": "execute_result"
    }
   ],
   "source": [
    "data_tsa.reset_index()"
   ]
  },
  {
   "cell_type": "code",
   "execution_count": 47,
   "metadata": {},
   "outputs": [],
   "source": [
    "data_tsa.to_csv('datatsa.csv', index = False)"
   ]
  }
 ],
 "metadata": {
  "kernelspec": {
   "display_name": "Python 3",
   "language": "python",
   "name": "python3"
  },
  "language_info": {
   "codemirror_mode": {
    "name": "ipython",
    "version": 3
   },
   "file_extension": ".py",
   "mimetype": "text/x-python",
   "name": "python",
   "nbconvert_exporter": "python",
   "pygments_lexer": "ipython3",
   "version": "3.7.4"
  }
 },
 "nbformat": 4,
 "nbformat_minor": 2
}
